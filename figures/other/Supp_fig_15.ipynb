{
 "cells": [
  {
   "cell_type": "code",
   "execution_count": 3,
   "metadata": {},
   "outputs": [],
   "source": [
    "from sklearn.model_selection import GridSearchCV, RandomizedSearchCV\n",
    "from sklearn.gaussian_process import GaussianProcessRegressor\n",
    "from sklearn.neighbors import KNeighborsRegressor"
   ]
  },
  {
   "cell_type": "code",
   "execution_count": 30,
   "metadata": {},
   "outputs": [
    {
     "name": "stdout",
     "output_type": "stream",
     "text": [
      "EEHEE_rd3_0037.pdb\n",
      "(614, 28)\n",
      "EEHEE_rd3_1498.pdb\n",
      "(617, 28)\n",
      "EEHEE_rd3_1702.pdb\n",
      "(622, 28)\n",
      "EEHEE_rd3_1716.pdb\n",
      "(624, 28)\n",
      "EHEE_0882.pdb\n",
      "(579, 28)\n",
      "EHEE_rd2_0005.pdb\n",
      "(589, 28)\n",
      "EHEE_rd3_0015.pdb\n",
      "(570, 28)\n",
      "HEEH_rd2_0779.pdb\n",
      "(615, 28)\n",
      "HEEH_rd3_0223.pdb\n",
      "(621, 28)\n",
      "HEEH_rd3_0726.pdb\n",
      "(623, 28)\n",
      "HEEH_rd3_0872.pdb\n",
      "(633, 28)\n",
      "HHH_0142.pdb\n",
      "(633, 28)\n",
      "HHH_rd2_0134.pdb\n",
      "(630, 28)\n",
      "HHH_rd3_0138.pdb\n",
      "(610, 28)\n",
      "Pin1\n",
      "(563, 28)\n",
      "hYAP65\n",
      "(648, 28)\n",
      "villin\n",
      "(517, 28)\n"
     ]
    }
   ],
   "source": [
    "## COMPUTING THE NEAREST NEIGHBOR BASELINE\n",
    "\n",
    "import os\n",
    "import pandas as pd\n",
    "import sys\n",
    "import os\n",
    "from subprocess import call\n",
    "\n",
    "#%matplotlib inline\n",
    "import matplotlib.pyplot as plt\n",
    "import seaborn as sns\n",
    "import matplotlib.gridspec as gridspec\n",
    "from IPython.display import display, HTML\n",
    "import numpy as np\n",
    "\n",
    "import random\n",
    "from scipy.stats import ttest_1samp\n",
    "from sklearn.externals import joblib\n",
    "from matplotlib.lines import Line2D\n",
    "\n",
    "from sklearn.ensemble import RandomForestRegressor\n",
    "\n",
    "random.seed(42)\n",
    "np.random.seed(42)\n",
    "\n",
    "from scipy.stats import spearmanr, pearsonr\n",
    "from sklearn.externals import joblib\n",
    "\n",
    "from skopt import BayesSearchCV\n",
    "from skopt.space import Real, Categorical, Integer\n",
    "import sys\n",
    "sys.path.append('./UniRep-analysis/')\n",
    "\n",
    "import common_v2.validation_tools\n",
    "import scipy.stats\n",
    "\n",
    "test_seqs = {}\n",
    "train_seqs = {}\n",
    "run_type = 'test'\n",
    "\n",
    "from common_v2.validation_tools import reps, subsets\n",
    "\n",
    "dataset_filetype = 'loaded_full_dataset'\n",
    "path = pd.read_pickle(f\"../data/pieces_new/rocklin_ssm2__full.pkl\")\n",
    "\n",
    "for s in subsets['rocklin_ssm2']:\n",
    "\n",
    "    rep='sequence'\n",
    "    train, validate, test = common_v2.validation_tools.get_tvt(path,\n",
    "                                                             'rocklin_ssm2',\n",
    "                                                             s,\n",
    "                                                             rep, \n",
    "                                       dataset_filetype=dataset_filetype, \n",
    "                                       verbose=False,\n",
    "\n",
    "                                                                modifiers=[common_v2.validation_tools.tvt_modifier_baseline_reps,\n",
    "                                                                        common_v2.validation_tools.tvt_modifier_return_mean]\n",
    "                            )\n",
    "\n",
    "    if run_type == 'test':\n",
    "        validate = test\n",
    "        \n",
    "        \n",
    "    test_seqs[s]= validate\n",
    "    train_seqs[s]=train\n",
    "\n",
    "df=pd.read_csv('./ssm2_stability_scores',delim_whitespace=True)\n",
    "\n",
    "wildtypes = df[df.pos == 0].set_index('name')[['consensus_stability_score', 'sequence']]\n",
    "\n",
    "\n",
    "aas='ADEFGHIKLMNPQRSTVWY'\n",
    "\n",
    "aa_diff_for_each_wildtype = {}\n",
    "\n",
    "for wt in wildtypes.index:\n",
    "    \n",
    "    aa_diff={}\n",
    "\n",
    "    for i, aa1 in enumerate(aas[:-1]):\n",
    "        for j, aa2 in enumerate(aas[i+1:]):\n",
    "            aa_diff[(aa1, aa2)] = []\n",
    "    \n",
    "    print (wt)\n",
    "    subdf=df[(df['my_wt'] == wt) & (df.sequence.map(lambda x: x in train_seqs[wt + '_ssm2_stability'].rep.tolist()))]\n",
    "    print(subdf.shape)\n",
    "    \n",
    "    wtss = wildtypes.loc[wt, 'consensus_stability_score']\n",
    "    \n",
    "    for pos in list(set([x for x in subdf['pos'] if x != 0])):\n",
    "        subdf2=subdf.query('pos == %s' % pos)\n",
    "        for mut, wt_aa, ss in zip(subdf2['mut'], subdf2['wt_aa'], subdf2['consensus_stability_score']):\n",
    "            aa_diff[tuple(sorted([mut, wt_aa]))].append(abs(wtss - ss))\n",
    "        for mut1, ss1 in zip(subdf2['mut'], subdf2['consensus_stability_score']):\n",
    "            for mut2, ss2 in zip(subdf2['mut'], subdf2['consensus_stability_score']):\n",
    "                if mut1 < mut2:\n",
    "                    aa_diff[tuple(sorted([mut1, mut2]))].append(abs(ss1 - ss2))\n",
    "                    \n",
    "    aagrid=np.zeros((19,19))\n",
    "    for i, aa1 in enumerate(aas):\n",
    "        for j, aa2 in enumerate(aas):\n",
    "            if i != j: aagrid[i,j] = np.average(aa_diff[tuple(sorted([aa1, aa2]))])\n",
    "        \n",
    "                    \n",
    "    aa_diff_for_each_wildtype[wt] = aagrid\n",
    "\n",
    "wildtypes['pearson_nn'] = 0\n",
    "for wt in wildtypes.index:\n",
    "\n",
    "    train = df[df.sequence.map(lambda x: x in train_seqs[wt+ '_ssm2_stability'].rep.tolist())]\n",
    "    test = df[df.sequence.map(lambda x: x in test_seqs[wt+ '_ssm2_stability'].rep.tolist())]\n",
    "\n",
    "    aagrid = aa_diff_for_each_wildtype[wt]\n",
    "\n",
    "    out = []\n",
    "    for pos, wt_aa, mut, ss in zip(test['pos'], test['wt_aa'], test['mut'], test['consensus_stability_score']):\n",
    "        #print(aas, mut)\n",
    "        #print(aas.index(mut))\n",
    "        \n",
    "        if mut == 'na':\n",
    "            out.append((pos, mut, newaa, ss, wildtypes.loc[wt,'consensus_stability_score']))\n",
    "        else:\n",
    "            for newaa in (np.array([x for x in aas])[np.argsort(aagrid[aas.index(mut)])[1:]]):\n",
    "\n",
    "                nndf=train.query('pos == %s & mut == \"%s\"' % (pos, newaa))\n",
    "                if len(nndf) == 1:\n",
    "                    out.append((pos, mut, newaa, ss, nndf['consensus_stability_score'].values[-1]))\n",
    "                    break\n",
    "    out=pd.DataFrame(out)\n",
    "    out.columns=['pos','mut','nnaa','consensus_stability_score','nn_consensus_stability_score']\n",
    "    \n",
    "    wildtypes.loc[wt,'pearson_nn'] = scipy.stats.pearsonr(test_seqs[wt+'_ssm2_stability'].target, out.nn_consensus_stability_score)[0]"
   ]
  },
  {
   "cell_type": "code",
   "execution_count": 2,
   "metadata": {},
   "outputs": [],
   "source": [
    "import os\n",
    "import pandas as pd\n",
    "import sys\n",
    "import os\n",
    "from subprocess import call\n",
    "\n",
    "#%matplotlib inline\n",
    "import matplotlib.pyplot as plt\n",
    "import seaborn as sns\n",
    "import matplotlib.gridspec as gridspec\n",
    "from IPython.display import display, HTML\n",
    "import numpy as np\n",
    "\n",
    "import random\n",
    "from scipy.stats import ttest_1samp\n",
    "from sklearn.externals import joblib\n",
    "from matplotlib.lines import Line2D\n",
    "\n",
    "from sklearn.ensemble import RandomForestRegressor\n",
    "\n",
    "random.seed(42)\n",
    "np.random.seed(42)\n",
    "\n",
    "from scipy.stats import spearmanr, pearsonr\n",
    "from sklearn.externals import joblib\n",
    "\n",
    "from skopt import BayesSearchCV\n",
    "from skopt.space import Real, Categorical, Integer\n",
    "\n",
    "import sys\n",
    "sys.path.append('../')\n",
    "\n",
    "import common_v2.validation_tools\n",
    "\n",
    "from common_v2.validation_tools import reps, subsets\n",
    "\n",
    "dataset_filetype = 'loaded_full_dataset'\n",
    "path = pd.read_pickle(f\"../data/pieces_new/rocklin_ssm2__full.pkl\")"
   ]
  },
  {
   "cell_type": "markdown",
   "metadata": {},
   "source": [
    "a very simple model where the effect of a mutation in the test set is predicted to be the average of all the effects of mutations at that position in the training set."
   ]
  },
  {
   "cell_type": "code",
   "execution_count": 31,
   "metadata": {},
   "outputs": [],
   "source": [
    "def id_mutations(wt, mut_seq):\n",
    "    # identify mutations in same length wt and seq2\n",
    "    n_mut = 0\n",
    "    for i,letter in enumerate(list(mut_seq)):\n",
    "        if letter != wt[i]:\n",
    "            n_mut+=1\n",
    "    return n_mut\n",
    "\n",
    "def return_mutation_position(wt, mut_seq):\n",
    "    # identify mutations in same length wt and seq2\n",
    "    muts = []\n",
    "    for i,letter in enumerate(list(mut_seq)):\n",
    "        if letter != wt[i]:\n",
    "            return i\n",
    "    raise"
   ]
  },
  {
   "cell_type": "code",
   "execution_count": 32,
   "metadata": {},
   "outputs": [],
   "source": [
    "from common_v2.validation_tools import metrics"
   ]
  },
  {
   "cell_type": "code",
   "execution_count": 33,
   "metadata": {},
   "outputs": [],
   "source": [
    "run_type = 'test'"
   ]
  },
  {
   "cell_type": "code",
   "execution_count": 34,
   "metadata": {},
   "outputs": [],
   "source": [
    "class simple_baseline_mutation_effect_model:\n",
    "    def train(self, train, wt_seq, length):\n",
    "        \n",
    "        train[\"mutated_position\"] = train.rep.map(lambda mut_seq: return_mutation_position(wt_seq, mut_seq))\n",
    "        \n",
    "        train.target = np.float16(train.target)\n",
    "        \n",
    "        avg_effects = train.groupby(['mutated_position']).target.mean()\n",
    "        \n",
    "        if len(avg_effects) != len(wt_seq):\n",
    "            print(\"not all positions mutated in training data\")\n",
    "            \n",
    "        self.avg_effects = avg_effects\n",
    "        \n",
    "    def predict(self, validate):\n",
    "        \n",
    "        return validate.rep.map(lambda mut_seq: self.avg_effects[return_mutation_position(wt_seq, mut_seq)]).values"
   ]
  },
  {
   "cell_type": "code",
   "execution_count": null,
   "metadata": {},
   "outputs": [],
   "source": []
  },
  {
   "cell_type": "code",
   "execution_count": 35,
   "metadata": {},
   "outputs": [
    {
     "name": "stdout",
     "output_type": "stream",
     "text": [
      "EEHEE_rd3_0037.pdb_ssm2_stability\n",
      "43\n",
      "85 85\n",
      "EEHEE_rd3_1498.pdb_ssm2_stability\n",
      "43\n",
      "79 79\n",
      "EEHEE_rd3_1702.pdb_ssm2_stability\n",
      "43\n",
      "78 78\n",
      "EEHEE_rd3_1716.pdb_ssm2_stability\n",
      "43\n",
      "70 70\n",
      "EHEE_0882.pdb_ssm2_stability\n",
      "43\n",
      "not all positions mutated in training data\n",
      "61 61\n",
      "EHEE_rd2_0005.pdb_ssm2_stability\n",
      "43\n",
      "not all positions mutated in training data\n",
      "66 66\n",
      "EHEE_rd3_0015.pdb_ssm2_stability\n",
      "43\n",
      "not all positions mutated in training data\n",
      "72 72\n",
      "HEEH_rd2_0779.pdb_ssm2_stability\n",
      "43\n",
      "77 77\n",
      "HEEH_rd3_0223.pdb_ssm2_stability\n",
      "43\n",
      "79 79\n",
      "HEEH_rd3_0726.pdb_ssm2_stability\n",
      "43\n",
      "67 67\n",
      "HEEH_rd3_0872.pdb_ssm2_stability\n",
      "43\n",
      "77 77\n",
      "HHH_0142.pdb_ssm2_stability\n",
      "43\n",
      "74 74\n",
      "HHH_rd2_0134.pdb_ssm2_stability\n",
      "43\n",
      "79 79\n",
      "HHH_rd3_0138.pdb_ssm2_stability\n",
      "43\n",
      "79 79\n",
      "Pin1_ssm2_stability\n",
      "43\n",
      "not all positions mutated in training data\n",
      "64 64\n",
      "hYAP65_ssm2_stability\n",
      "46\n",
      "90 90\n",
      "villin_ssm2_stability\n",
      "43\n",
      "not all positions mutated in training data\n",
      "62 62\n"
     ]
    }
   ],
   "source": [
    "subset_results = {}\n",
    "\n",
    "for s in subsets['rocklin_ssm2']:\n",
    "\n",
    "    rep='sequence'\n",
    "    train, validate, test = common_v2.validation_tools.get_tvt(path,\n",
    "                                                             'rocklin_ssm2',\n",
    "                                                             s,\n",
    "                                                             rep, \n",
    "                                       dataset_filetype=dataset_filetype, \n",
    "                                       verbose=False,\n",
    "\n",
    "                                                                modifiers=[common_v2.validation_tools.tvt_modifier_baseline_reps,\n",
    "                                                                        common_v2.validation_tools.tvt_modifier_return_mean]\n",
    "                            )\n",
    "\n",
    "    if run_type == 'test':\n",
    "        validate = test\n",
    "    \n",
    "    print(s)\n",
    "   \n",
    "    length = train.rep.map(len).value_counts().index[0]\n",
    "    wt_seq = \"\".join([train.rep.map(lambda x: x[i]).value_counts().index[0] for i in range(length)])\n",
    "    \n",
    "    print(length)\n",
    "    \n",
    "    model = simple_baseline_mutation_effect_model()\n",
    "    \n",
    "    train = train[train.rep != wt_seq]\n",
    "    validate = validate[validate.rep != wt_seq]\n",
    "\n",
    "    model.train(train, wt_seq, length)\n",
    "\n",
    "    predictions = model.predict(validate)\n",
    "    print(len(predictions), len(validate))\n",
    "    \n",
    "    \n",
    "    results = pd.Series()\n",
    "\n",
    "    for metric_name in metrics.keys():\n",
    "        #print(validate['target'].values)\n",
    "        #print(predictions)\n",
    "        results.loc[metric_name] = metrics[metric_name](validate['target'],\n",
    "                   predictions)\n",
    "    \n",
    "    our_results  = pd.read_csv(f\"../data/results/rocklin_ssm2__{s}__all_1900__{run_type}__regression_results.csv\", header=None, index_col=0)\n",
    "    \n",
    "    subset_results[s] = {\"avg_pos_effect\":results['pearson_r'], \"UniRep\":our_results.loc['pearson_r'].values[0]}"
   ]
  },
  {
   "cell_type": "code",
   "execution_count": 36,
   "metadata": {},
   "outputs": [
    {
     "data": {
      "text/plain": [
       "<matplotlib.axes._subplots.AxesSubplot at 0x7ff76e2c27b8>"
      ]
     },
     "execution_count": 36,
     "metadata": {},
     "output_type": "execute_result"
    },
    {
     "data": {
      "image/png": "[encoded data removed]",
      "text/plain": [
       "<Figure size 432x288 with 1 Axes>"
      ]
     },
     "metadata": {},
     "output_type": "display_data"
    }
   ],
   "source": [
    "df = pd.DataFrame(subset_results)\n",
    "df.T.plot(kind='barh')"
   ]
  },
  {
   "cell_type": "markdown",
   "metadata": {},
   "source": [
    "# KNN"
   ]
  },
  {
   "cell_type": "code",
   "execution_count": 37,
   "metadata": {
    "scrolled": false
   },
   "outputs": [
    {
     "name": "stdout",
     "output_type": "stream",
     "text": [
      "EEHEE_rd3_0037.pdb_ssm2_stability\n",
      "EEHEE_rd3_1498.pdb_ssm2_stability\n",
      "EEHEE_rd3_1702.pdb_ssm2_stability\n",
      "EEHEE_rd3_1716.pdb_ssm2_stability\n",
      "EHEE_0882.pdb_ssm2_stability\n",
      "EHEE_rd2_0005.pdb_ssm2_stability\n",
      "EHEE_rd3_0015.pdb_ssm2_stability\n",
      "HEEH_rd2_0779.pdb_ssm2_stability\n",
      "HEEH_rd3_0223.pdb_ssm2_stability\n",
      "HEEH_rd3_0726.pdb_ssm2_stability\n",
      "HEEH_rd3_0872.pdb_ssm2_stability\n",
      "HHH_0142.pdb_ssm2_stability\n",
      "HHH_rd2_0134.pdb_ssm2_stability\n",
      "HHH_rd3_0138.pdb_ssm2_stability\n",
      "Pin1_ssm2_stability\n",
      "hYAP65_ssm2_stability\n",
      "villin_ssm2_stability\n"
     ]
    }
   ],
   "source": [
    "knn_results = {}\n",
    "\n",
    "for s in subsets['rocklin_ssm2']:\n",
    "\n",
    "    rep='all_1900'\n",
    "    train, validate, test = common_v2.validation_tools.get_tvt(path,\n",
    "                                                             'rocklin_ssm2',\n",
    "                                                             s,\n",
    "                                                             rep, \n",
    "                                                             dataset_filetype=dataset_filetype, \n",
    "                                                             verbose=False,\n",
    "                                                             modifiers=[common_v2.validation_tools.tvt_modifier_baseline_reps,\n",
    "                                                                        common_v2.validation_tools.tvt_modifier_return_mean]\n",
    "                            )\n",
    "\n",
    "    if run_type == 'test':\n",
    "        validate = test\n",
    "    \n",
    "    print(s)\n",
    "\n",
    "    model = KNeighborsRegressor(n_neighbors=10, metric='euclidean', weights='distance')\n",
    "\n",
    "    #\n",
    "    y_train = train.target.values.tolist()\n",
    "\n",
    "    model.fit(\n",
    "        np.asarray(train.rep.values.tolist()), \n",
    "        y_train)\n",
    "    \n",
    "    try:\n",
    "        print(model.best_params_)\n",
    "    except:\n",
    "        pass\n",
    "\n",
    "    predictions = model.predict(np.asarray(validate.rep.values.tolist()))\n",
    "\n",
    "    results = pd.Series()\n",
    "\n",
    "    for metric_name in metrics.keys():\n",
    "        #print(validate['target'].values)\n",
    "        #print(predictions)\n",
    "        results.loc[metric_name] = metrics[metric_name](validate['target'],\n",
    "                   predictions)\n",
    "    \n",
    "    \n",
    "    knn_results[s] = results['pearson_r']"
   ]
  },
  {
   "cell_type": "code",
   "execution_count": 38,
   "metadata": {},
   "outputs": [],
   "source": [
    "for k in subset_results.keys():\n",
    "    subset_results[k]['KNN'] = knn_results[k]"
   ]
  },
  {
   "cell_type": "code",
   "execution_count": 39,
   "metadata": {},
   "outputs": [],
   "source": [
    "df = pd.DataFrame(subset_results)"
   ]
  },
  {
   "cell_type": "code",
   "execution_count": 40,
   "metadata": {},
   "outputs": [
    {
     "data": {
      "text/html": [
       "<div>\n",
       "<style scoped>\n",
       "    .dataframe tbody tr th:only-of-type {\n",
       "        vertical-align: middle;\n",
       "    }\n",
       "\n",
       "    .dataframe tbody tr th {\n",
       "        vertical-align: top;\n",
       "    }\n",
       "\n",
       "    .dataframe thead th {\n",
       "        text-align: right;\n",
       "    }\n",
       "</style>\n",
       "<table border=\"1\" class=\"dataframe\">\n",
       "  <thead>\n",
       "    <tr style=\"text-align: right;\">\n",
       "      <th></th>\n",
       "      <th>EEHEE_rd3_0037.pdb_ssm2_stability</th>\n",
       "      <th>EEHEE_rd3_1498.pdb_ssm2_stability</th>\n",
       "      <th>EEHEE_rd3_1702.pdb_ssm2_stability</th>\n",
       "      <th>EEHEE_rd3_1716.pdb_ssm2_stability</th>\n",
       "      <th>EHEE_0882.pdb_ssm2_stability</th>\n",
       "      <th>EHEE_rd2_0005.pdb_ssm2_stability</th>\n",
       "      <th>EHEE_rd3_0015.pdb_ssm2_stability</th>\n",
       "      <th>HEEH_rd2_0779.pdb_ssm2_stability</th>\n",
       "      <th>HEEH_rd3_0223.pdb_ssm2_stability</th>\n",
       "      <th>HEEH_rd3_0726.pdb_ssm2_stability</th>\n",
       "      <th>HEEH_rd3_0872.pdb_ssm2_stability</th>\n",
       "      <th>HHH_0142.pdb_ssm2_stability</th>\n",
       "      <th>HHH_rd2_0134.pdb_ssm2_stability</th>\n",
       "      <th>HHH_rd3_0138.pdb_ssm2_stability</th>\n",
       "      <th>Pin1_ssm2_stability</th>\n",
       "      <th>hYAP65_ssm2_stability</th>\n",
       "      <th>villin_ssm2_stability</th>\n",
       "    </tr>\n",
       "  </thead>\n",
       "  <tbody>\n",
       "    <tr>\n",
       "      <th>KNN</th>\n",
       "      <td>0.826683</td>\n",
       "      <td>0.844763</td>\n",
       "      <td>0.748730</td>\n",
       "      <td>0.847634</td>\n",
       "      <td>0.690851</td>\n",
       "      <td>0.389385</td>\n",
       "      <td>0.539556</td>\n",
       "      <td>0.778639</td>\n",
       "      <td>0.762164</td>\n",
       "      <td>0.689174</td>\n",
       "      <td>0.778090</td>\n",
       "      <td>0.845037</td>\n",
       "      <td>0.696015</td>\n",
       "      <td>0.741545</td>\n",
       "      <td>0.763841</td>\n",
       "      <td>0.627532</td>\n",
       "      <td>0.827368</td>\n",
       "    </tr>\n",
       "    <tr>\n",
       "      <th>UniRep</th>\n",
       "      <td>0.867736</td>\n",
       "      <td>0.858217</td>\n",
       "      <td>0.374862</td>\n",
       "      <td>0.844751</td>\n",
       "      <td>0.778605</td>\n",
       "      <td>0.607761</td>\n",
       "      <td>0.598314</td>\n",
       "      <td>0.836261</td>\n",
       "      <td>0.786839</td>\n",
       "      <td>0.797881</td>\n",
       "      <td>0.815178</td>\n",
       "      <td>0.893018</td>\n",
       "      <td>0.880745</td>\n",
       "      <td>0.783899</td>\n",
       "      <td>0.867599</td>\n",
       "      <td>0.755677</td>\n",
       "      <td>0.828868</td>\n",
       "    </tr>\n",
       "    <tr>\n",
       "      <th>avg_pos_effect</th>\n",
       "      <td>0.591870</td>\n",
       "      <td>0.549104</td>\n",
       "      <td>0.607797</td>\n",
       "      <td>0.677691</td>\n",
       "      <td>0.367880</td>\n",
       "      <td>0.338201</td>\n",
       "      <td>0.229368</td>\n",
       "      <td>0.635584</td>\n",
       "      <td>0.481549</td>\n",
       "      <td>0.459368</td>\n",
       "      <td>0.332888</td>\n",
       "      <td>0.734037</td>\n",
       "      <td>0.607942</td>\n",
       "      <td>0.531639</td>\n",
       "      <td>0.813653</td>\n",
       "      <td>0.677081</td>\n",
       "      <td>0.656364</td>\n",
       "    </tr>\n",
       "  </tbody>\n",
       "</table>\n",
       "</div>"
      ],
      "text/plain": [
       "                EEHEE_rd3_0037.pdb_ssm2_stability  \\\n",
       "KNN                                      0.826683   \n",
       "UniRep                                   0.867736   \n",
       "avg_pos_effect                           0.591870   \n",
       "\n",
       "                EEHEE_rd3_1498.pdb_ssm2_stability  \\\n",
       "KNN                                      0.844763   \n",
       "UniRep                                   0.858217   \n",
       "avg_pos_effect                           0.549104   \n",
       "\n",
       "                EEHEE_rd3_1702.pdb_ssm2_stability  \\\n",
       "KNN                                      0.748730   \n",
       "UniRep                                   0.374862   \n",
       "avg_pos_effect                           0.607797   \n",
       "\n",
       "                EEHEE_rd3_1716.pdb_ssm2_stability  \\\n",
       "KNN                                      0.847634   \n",
       "UniRep                                   0.844751   \n",
       "avg_pos_effect                           0.677691   \n",
       "\n",
       "                EHEE_0882.pdb_ssm2_stability  \\\n",
       "KNN                                 0.690851   \n",
       "UniRep                              0.778605   \n",
       "avg_pos_effect                      0.367880   \n",
       "\n",
       "                EHEE_rd2_0005.pdb_ssm2_stability  \\\n",
       "KNN                                     0.389385   \n",
       "UniRep                                  0.607761   \n",
       "avg_pos_effect                          0.338201   \n",
       "\n",
       "                EHEE_rd3_0015.pdb_ssm2_stability  \\\n",
       "KNN                                     0.539556   \n",
       "UniRep                                  0.598314   \n",
       "avg_pos_effect                          0.229368   \n",
       "\n",
       "                HEEH_rd2_0779.pdb_ssm2_stability  \\\n",
       "KNN                                     0.778639   \n",
       "UniRep                                  0.836261   \n",
       "avg_pos_effect                          0.635584   \n",
       "\n",
       "                HEEH_rd3_0223.pdb_ssm2_stability  \\\n",
       "KNN                                     0.762164   \n",
       "UniRep                                  0.786839   \n",
       "avg_pos_effect                          0.481549   \n",
       "\n",
       "                HEEH_rd3_0726.pdb_ssm2_stability  \\\n",
       "KNN                                     0.689174   \n",
       "UniRep                                  0.797881   \n",
       "avg_pos_effect                          0.459368   \n",
       "\n",
       "                HEEH_rd3_0872.pdb_ssm2_stability  HHH_0142.pdb_ssm2_stability  \\\n",
       "KNN                                     0.778090                     0.845037   \n",
       "UniRep                                  0.815178                     0.893018   \n",
       "avg_pos_effect                          0.332888                     0.734037   \n",
       "\n",
       "                HHH_rd2_0134.pdb_ssm2_stability  \\\n",
       "KNN                                    0.696015   \n",
       "UniRep                                 0.880745   \n",
       "avg_pos_effect                         0.607942   \n",
       "\n",
       "                HHH_rd3_0138.pdb_ssm2_stability  Pin1_ssm2_stability  \\\n",
       "KNN                                    0.741545             0.763841   \n",
       "UniRep                                 0.783899             0.867599   \n",
       "avg_pos_effect                         0.531639             0.813653   \n",
       "\n",
       "                hYAP65_ssm2_stability  villin_ssm2_stability  \n",
       "KNN                          0.627532               0.827368  \n",
       "UniRep                       0.755677               0.828868  \n",
       "avg_pos_effect               0.677081               0.656364  "
      ]
     },
     "execution_count": 40,
     "metadata": {},
     "output_type": "execute_result"
    }
   ],
   "source": [
    "df"
   ]
  },
  {
   "cell_type": "code",
   "execution_count": 41,
   "metadata": {},
   "outputs": [],
   "source": [
    "df.index = ['UniRep+KNN', 'UniRep+Lasso', 'Average Positional Effect']"
   ]
  },
  {
   "cell_type": "code",
   "execution_count": 42,
   "metadata": {},
   "outputs": [
    {
     "data": {
      "text/plain": [
       "<Figure size 432x288 with 0 Axes>"
      ]
     },
     "metadata": {},
     "output_type": "display_data"
    }
   ],
   "source": [
    "plt.set_cmap('Set2')"
   ]
  },
  {
   "cell_type": "code",
   "execution_count": 48,
   "metadata": {},
   "outputs": [
    {
     "data": {
      "text/plain": [
       "array([ 0.85131072,  0.84527942,  0.74358036,  0.8220655 ,  0.42130881,\n",
       "        0.20985271,  0.32377118,  0.77791439,  0.47703433,  0.70918839,\n",
       "        0.79631813,  0.75831633,  0.68573725,  0.58457292,  0.82012748,\n",
       "        0.73376814,  0.79365618])"
      ]
     },
     "execution_count": 48,
     "metadata": {},
     "output_type": "execute_result"
    }
   ],
   "source": [
    "wildtypes['pearson_nn'].values"
   ]
  },
  {
   "cell_type": "code",
   "execution_count": 49,
   "metadata": {},
   "outputs": [],
   "source": [
    "df.loc['Nearest Neighbor', wildtypes['pearson_nn'].index.map(lambda x: x+\"_ssm2_stability\")] = wildtypes['pearson_nn'].values"
   ]
  },
  {
   "cell_type": "code",
   "execution_count": 59,
   "metadata": {},
   "outputs": [
    {
     "data": {
      "text/plain": [
       "['ssm2_baseline_analysis_subset_results_df_PROPER.joblibpkl']"
      ]
     },
     "execution_count": 59,
     "metadata": {},
     "output_type": "execute_result"
    }
   ],
   "source": [
    "joblib.dump(df, \"ssm2_baseline_analysis_subset_results_df_PROPER.joblibpkl\")"
   ]
  },
  {
   "cell_type": "code",
   "execution_count": 53,
   "metadata": {},
   "outputs": [],
   "source": [
    "import palettable as pal"
   ]
  },
  {
   "cell_type": "code",
   "execution_count": 54,
   "metadata": {},
   "outputs": [],
   "source": [
    "palette = pal.cartocolors.qualitative.Safe_10.get_mpl_colormap()"
   ]
  },
  {
   "cell_type": "code",
   "execution_count": 55,
   "metadata": {},
   "outputs": [
    {
     "data": {
      "text/plain": [
       "<matplotlib.colors.LinearSegmentedColormap at 0x7ff807fc93c8>"
      ]
     },
     "execution_count": 55,
     "metadata": {},
     "output_type": "execute_result"
    }
   ],
   "source": [
    "palette"
   ]
  },
  {
   "cell_type": "code",
   "execution_count": 56,
   "metadata": {},
   "outputs": [
    {
     "data": {
      "text/plain": [
       "Text(0.5,1,'Positional effect baseline comparison for 17 proteins in the DMS stability prediction task')"
      ]
     },
     "execution_count": 56,
     "metadata": {},
     "output_type": "execute_result"
    },
    {
     "data": {
      "image/png": "[encoded data removed]",
      "text/plain": [
       "<Figure size 504x720 with 1 Axes>"
      ]
     },
     "metadata": {},
     "output_type": "display_data"
    }
   ],
   "source": [
    "df.loc[['UniRep+Lasso', 'Nearest Neighbor', 'Average Positional Effect']].T.plot(kind='barh', figsize=(7,10), cmap=palette)\n",
    "plt.legend(loc='upper center', bbox_to_anchor=(1.37, 0.55), fancybox=True, shadow=True)\n",
    "plt.xlabel('Pearson r')\n",
    "plt.title('Positional effect baseline comparison for 17 proteins in the DMS stability prediction task')"
   ]
  },
  {
   "cell_type": "code",
   "execution_count": 57,
   "metadata": {},
   "outputs": [
    {
     "data": {
      "text/plain": [
       "Text(0.5,1,'KNN top model performance on EEHEE_rd3_1702 de novo design')"
      ]
     },
     "execution_count": 57,
     "metadata": {},
     "output_type": "execute_result"
    },
    {
     "data": {
      "image/png": "[encoded data removed]",
      "text/plain": [
       "<Figure size 432x288 with 1 Axes>"
      ]
     },
     "metadata": {},
     "output_type": "display_data"
    }
   ],
   "source": [
    "df.loc[['UniRep+Lasso', 'Nearest Neighbor', 'UniRep+KNN', 'Average Positional Effect'],'EEHEE_rd3_1702.pdb_ssm2_stability'].plot(kind='barh', cmap=palette)\n",
    "plt.xticks(rotation=90)\n",
    "plt.xlabel(\"Pearson r\")\n",
    "plt.title(\"KNN top model performance on EEHEE_rd3_1702 de novo design\")"
   ]
  },
  {
   "cell_type": "code",
   "execution_count": null,
   "metadata": {},
   "outputs": [],
   "source": []
  }
 ],
 "metadata": {
  "kernelspec": {
   "display_name": "Python [default]",
   "language": "python",
   "name": "python3"
  },
  "language_info": {
   "codemirror_mode": {
    "name": "ipython",
    "version": 3
   },
   "file_extension": ".py",
   "mimetype": "text/x-python",
   "name": "python",
   "nbconvert_exporter": "python",
   "pygments_lexer": "ipython3",
   "version": "3.6.6"
  }
 },
 "nbformat": 4,
 "nbformat_minor": 2
}
