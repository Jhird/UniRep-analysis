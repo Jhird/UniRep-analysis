{
 "cells": [
  {
   "cell_type": "markdown",
   "metadata": {},
   "source": [
    "## Reproduce Supp. Fig. 13\n",
    "UniRep is a generative model of protein sequences. Because this notebook requires the UniRep model, please download the unirep github into the parent directory of unirep_anlysis, including the weight files. \n",
    "Additionally, you must activate the unirep model environment NOT the standard analysis environment for this to run.\n",
    "\n",
    "Runs on a 16G RAM laptop in a few minutes, no GPU"
   ]
  },
  {
   "cell_type": "code",
   "execution_count": 1,
   "metadata": {
    "collapsed": true
   },
   "outputs": [],
   "source": [
    "import tensorflow as tf\n",
    "import numpy as np\n",
    "import sys\n",
    "import random\n",
    "import os\n",
    "# To allow imports from common directory\n",
    "\n",
    "sys.path.append('../../../unirep/')\n",
    "sys.path.append('../')\n",
    "from unirep import babbler1900\n",
    "random.seed(42)\n",
    "np.random.seed(42)\n",
    "tf.set_random_seed(42)"
   ]
  },
  {
   "cell_type": "markdown",
   "metadata": {},
   "source": [
    "Given a short seed sequence, allow the babbler to babble a while and see what comes out. "
   ]
  },
  {
   "cell_type": "code",
   "execution_count": 2,
   "metadata": {},
   "outputs": [],
   "source": [
    "# initialize the babbler\n",
    "b = babbler1900(model_path=\"../../../unirep/weights/1900_weights/\")"
   ]
  },
  {
   "cell_type": "code",
   "execution_count": 3,
   "metadata": {},
   "outputs": [
    {
     "data": {
      "text/plain": [
       "'MVRIIVKNVSKVFKKGKVVALDNVNINIENGERFGILGPSGAGKTTFMRIIAGLDVPSTGELYFDDRLVASNGKLIVPPEDRKIGMVFQTWALYPNLTAFENIAFPLTNMKMSKEEIRKRVEEVAKILDIHHVLNHFPRELSGGQQQRVALARALVKDPSLLLLDEPFSNLDARMRDSARALVKEVQSRLGVTLLVVSHDPADIFAIADRVGVLVKGKLVQVGKPEDLYDNPVSIQVASLIGEINELEGKVTNEGVVIGSLRFPVSVSSDRAIIGIRPEDVKLSKDVIKDDSWILVGKGKVKVIGYQGGLFRITITPLDSEEEIFTYSDHPIHSGEEVLVYVRKDKIKVFEKN'"
      ]
     },
     "execution_count": 3,
     "metadata": {},
     "output_type": "execute_result"
    }
   ],
   "source": [
    "# ABC transporter, ATP binding protein (glucose) 1-223 (all here)\n",
    "# http://scop2.mrc-lmb.cam.ac.uk/rep-34668.html\n",
    "# PDB:1oxx\n",
    "seed = \"\"\"\n",
    "MVRIIVKNVSKVFKKGKVVALDNVNINIENGERFGILGPSGAGKTTFMRIIAGLDVPSTG\n",
    "ELYFDDRLVASNGKLIVPPEDRKIGMVFQTWALYPNLTAFENIAFPLTNMKMSKEEIRKR\n",
    "VEEVAKILDIHHVLNHFPRELSGGQQQRVALARALVKDPSLLLLDEPFSNLDARMRDSAR\n",
    "ALVKEVQSRLGVTLLVVSHDPADIFAIADRVGVLVKGKLVQVGKPEDLYDNPVSIQVASL\n",
    "IGEINELEGKVTNEGVVIGSLRFPVSVSSDRAIIGIRPEDVKLSKDVIKDDSWILVGKGK\n",
    "VKVIGYQGGLFRITITPLDSEEEIFTYSDHPIHSGEEVLVYVRKDKIKVFEKN\n",
    "\"\"\".replace(\"\\n\",\"\")\n",
    "seed"
   ]
  },
  {
   "cell_type": "code",
   "execution_count": 4,
   "metadata": {
    "scrolled": true
   },
   "outputs": [
    {
     "name": "stdout",
     "output_type": "stream",
     "text": [
      "MVRIIVKNVSKVFKKEKVLNEINFSLKKGEIVGIVGESGSGKSTLAKAIVGLYKPDSGTIKVNGKDIANLDEKEKDIAMRNNIGMIFQDPYASLNPYFTIKEIIDEPLKLHGIKDKAERKKRILDLLELVNLNPDIEKKYPHQFSGGQKQRIAIARALAIEPKIIIADEPVSALDVSIQAQILNLLKDLQKEYGISYIFISHDLAVIRHISDRIAVMYLGKIIEIGTTEEIYKNPKSEYTKTLISSIPKIEGENKKKKIIKGNIADIKNLKGCSFAKRCLKAEEKCKEKDPKIKKVKKGHFVACKNVDELEDIIKEREKKIKKstopVLDAAKstopAIIAEQDLEEDIVEILKGLASDLQFIKQLKTLIGKstopLSQEEIELLLEASSPSTRPKRRLTTSAAAAAAA\n"
     ]
    },
    {
     "data": {
      "text/plain": [
       "'MVRIIVKNVSKVFKKEKVLNEINFSLKKGEIVGIVGESGSGKSTLAKAIVGLYKPDSGTIKVNGKDIANLDEKEKDIAMRNNIGMIFQDPYASLNPYFTIKEIIDEPLKLHGIKDKAERKKRILDLLELVNLNPDIEKKYPHQFSGGQKQRIAIARALAIEPKIIIADEPVSALDVSIQAQILNLLKDLQKEYGISYIFISHDLAVIRHISDRIAVMYLGKIIEIGTTEEIYKNPKSEYTKTLISSIPKIEGENKKKKIIKGNIADIKNLKGCSFAKRCLKAEEKCKEKDPKIKKVKKGHFVACKNVDELEDIIKEREKKIKK'"
      ]
     },
     "execution_count": 4,
     "metadata": {},
     "output_type": "execute_result"
    }
   ],
   "source": [
    "babbled = b.get_babble(seed=seed[:15], length=400, temp=.5)\n",
    "print(babbled)\n",
    "babbled.split('stop')[0]"
   ]
  },
  {
   "cell_type": "markdown",
   "metadata": {},
   "source": [
    "The above amino acid sequence was homology modelled with iTasser Server, the first model selected, and structurally aligned with the source PDB structure 1oxx (Methods)"
   ]
  },
  {
   "cell_type": "code",
   "execution_count": null,
   "metadata": {
    "collapsed": true
   },
   "outputs": [],
   "source": []
  }
 ],
 "metadata": {
  "kernelspec": {
   "display_name": "Python 3",
   "language": "python",
   "name": "python3"
  },
  "language_info": {
   "codemirror_mode": {
    "name": "ipython",
    "version": 3
   },
   "file_extension": ".py",
   "mimetype": "text/x-python",
   "name": "python",
   "nbconvert_exporter": "python",
   "pygments_lexer": "ipython3",
   "version": "3.6.3"
  }
 },
 "nbformat": 4,
 "nbformat_minor": 2
}
