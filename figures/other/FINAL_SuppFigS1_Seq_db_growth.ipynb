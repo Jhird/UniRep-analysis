{
 "cells": [
  {
   "cell_type": "code",
   "execution_count": 1,
   "metadata": {},
   "outputs": [
    {
     "name": "stdout",
     "output_type": "stream",
     "text": [
      "Populating the interactive namespace from numpy and matplotlib\n"
     ]
    }
   ],
   "source": [
    "import pandas as pd\n",
    "import io\n",
    "%pylab inline"
   ]
  },
  {
   "cell_type": "code",
   "execution_count": 2,
   "metadata": {},
   "outputs": [],
   "source": [
    "import sys\n",
    "sys.path.append('../../')\n",
    "\n",
    "import common_v2.plot_style_utils as plot_style_utils"
   ]
  },
  {
   "cell_type": "code",
   "execution_count": 3,
   "metadata": {},
   "outputs": [],
   "source": [
    "# from http://www.rcsb.org/pdb/statistics/contentGrowthChart.do?content=total, retrieved on Tue Dec 4 2018\n",
    "\n",
    "pdb_searcheable_records = pd.read_table(io.StringIO(\n",
    "\"\"\"Year\tYearly\tTotal\n",
    "2018\t10491.0\t146861.0\n",
    "2017\t11108.0\t136370.0\n",
    "2016\t10837.0\t125262.0\n",
    "2015\t9272.0\t114425.0\n",
    "2014\t9578.0\t105153.0\n",
    "2013\t9351.0\t95575.0\n",
    "2012\t8765.0\t86224.0\n",
    "2011\t7936.0\t77459.0\n",
    "2010\t7752.0\t69523.0\n",
    "2009\t7292.0\t61771.0\n",
    "2008\t6906.0\t54479.0\n",
    "2007\t7136.0\t47573.0\n",
    "2006\t6409.0\t40437.0\n",
    "2005\t5334.0\t34028.0\n",
    "2004\t5149.0\t28694.0\n",
    "2003\t4147.0\t23545.0\n",
    "2002\t2994.0\t19398.0\n",
    "2001\t2814.0\t16404.0\n",
    "2000\t2627.0\t13590.0\n",
    "1999\t2356.0\t10963.0\n",
    "1998\t2057.0\t8607.0\n",
    "1997\t1565.0\t6550.0\n",
    "1996\t1173.0\t4985.0\n",
    "1995\t941.0\t3812.0\n",
    "1994\t1289.0\t2871.0\n",
    "1993\t696.0\t1582.0\n",
    "1992\t192.0\t886.0\n",
    "1991\t187.0\t694.0\n",
    "1990\t142.0\t507.0\n",
    "1989\t74.0\t365.0\n",
    "1988\t53.0\t291.0\n",
    "1987\t25.0\t238.0\n",
    "1986\t18.0\t213.0\n",
    "1985\t20.0\t195.0\n",
    "1984\t22.0\t175.0\n",
    "1983\t36.0\t153.0\n",
    "1982\t32.0\t117.0\n",
    "1981\t16.0\t85.0\n",
    "1980\t16.0\t69.0\n",
    "1979\t11.0\t53.0\n",
    "1978\t6.0\t42.0\n",
    "1977\t23.0\t36.0\n",
    "1976\t13.0\t13.0\n",
    "1975\t0.0\t0.0\n",
    "1974\t0.0\t0.0\n",
    "1973\t0.0\t0.0\n",
    "1972\t0.0\t0.0\n",
    "\"\"\"\n",
    "))"
   ]
  },
  {
   "cell_type": "code",
   "execution_count": 4,
   "metadata": {},
   "outputs": [],
   "source": [
    "pdb_searcheable_records.columns = ['Year', 'Yearly', 'PDB Structures']"
   ]
  },
  {
   "cell_type": "code",
   "execution_count": 5,
   "metadata": {},
   "outputs": [
    {
     "data": {
      "text/plain": [
       "[(0.5333333333333333, 0.8, 0.9333333333333333),\n",
       " (0.8, 0.4, 0.4666666666666667),\n",
       " (0.8666666666666667, 0.8, 0.4666666666666667),\n",
       " (0.06666666666666667, 0.4666666666666667, 0.2),\n",
       " (0.2, 0.13333333333333333, 0.5333333333333333),\n",
       " (0.6666666666666666, 0.26666666666666666, 0.6),\n",
       " (0.26666666666666666, 0.6666666666666666, 0.6),\n",
       " (0.6, 0.6, 0.2),\n",
       " (0.5333333333333333, 0.13333333333333333, 0.3333333333333333),\n",
       " (0.4, 0.06666666666666667, 0.0)]"
      ]
     },
     "execution_count": 5,
     "metadata": {},
     "output_type": "execute_result"
    }
   ],
   "source": [
    "plot_style_utils.set_pub_plot_context()"
   ]
  },
  {
   "cell_type": "code",
   "execution_count": 7,
   "metadata": {},
   "outputs": [
    {
     "data": {
      "text/plain": [
       "Text(0,0.5,'Log number of protein sequences')"
      ]
     },
     "execution_count": 7,
     "metadata": {},
     "output_type": "execute_result"
    },
    {
     "data": {
      "image/png": "[encoded data removed]",
      "text/plain": [
       "<Figure size 432x288 with 1 Axes>"
      ]
     },
     "metadata": {},
     "output_type": "display_data"
    }
   ],
   "source": [
    "fig = plt.figure()\n",
    "ax = fig.subplots()\n",
    "\n",
    "pdb_searcheable_records[['Year','PDB Structures']].set_index(\"Year\").loc[:2011].plot(ax=ax)\n",
    "\n",
    "# from ftp://ftp.uniprot.org/pub/databases/uniprot/previous_releases/release-2016_10/relnotes.txt\n",
    "#1st months\n",
    "pd.Series({\n",
    "    \n",
    "    2011:3653743,\n",
    "    2012:4606913,\n",
    "    2013:6412887,\n",
    "    2014:9370012,\n",
    "    2015:11992242,\n",
    "    2016:16038089,\n",
    "    2017:20083468,\n",
    "    2018:30071646\n",
    "}).plot(label='UniRef50', ax=ax)\n",
    "\n",
    "pd.Series({\n",
    "    \n",
    "    2011:24828830,\n",
    "    2012:30362438,\n",
    "    2013:36188164,\n",
    "    2014:56323070,\n",
    "    2015:79754489,\n",
    "    2016:111569591,\n",
    "    2017:143389247,\n",
    "    2018:200779506\n",
    "}).plot(label='UniParc', ax=ax)\n",
    "\n",
    "plt.legend()\n",
    "plt.ylabel(\"Log number of protein sequences\")\n",
    "\n",
    "#plot_style_utils.save_for_pub(fig=fig,path=\"./figures/sequence_db_growth\")"
   ]
  },
  {
   "cell_type": "code",
   "execution_count": null,
   "metadata": {},
   "outputs": [],
   "source": []
  }
 ],
 "metadata": {
  "kernelspec": {
   "display_name": "Python [conda env:grig_alldatasets_run]",
   "language": "python",
   "name": "conda-env-grig_alldatasets_run-py"
  },
  "language_info": {
   "codemirror_mode": {
    "name": "ipython",
    "version": 3
   },
   "file_extension": ".py",
   "mimetype": "text/x-python",
   "name": "python",
   "nbconvert_exporter": "python",
   "pygments_lexer": "ipython3",
   "version": "3.6.6"
  }
 },
 "nbformat": 4,
 "nbformat_minor": 2
}
