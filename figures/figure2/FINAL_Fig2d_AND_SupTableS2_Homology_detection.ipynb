{
 "cells": [
  {
   "cell_type": "code",
   "execution_count": 3,
   "metadata": {},
   "outputs": [],
   "source": [
    "import os\n",
    "import pandas as pd\n",
    "import sys\n",
    "import os\n",
    "from subprocess import call\n",
    "\n",
    "#%matplotlib inline\n",
    "import matplotlib.pyplot as plt\n",
    "import seaborn as sns\n",
    "import matplotlib.gridspec as gridspec\n",
    "sys.path.append(\"../../\")\n",
    "\n",
    "from common_v2.validation_tools import regr_datasets, subsets, metrics, reps, transfer_datasets, pearson\n",
    "import common_v2.validation_tools\n",
    "from IPython.display import display, HTML\n",
    "import numpy as np\n",
    "\n",
    "import random\n",
    "from scipy.stats import ttest_1samp\n",
    "from sklearn.externals import joblib\n",
    "from matplotlib.lines import Line2D\n",
    "\n",
    "import common_v2.plot_style_utils as plot_style_utils\n",
    "from common_v2.plot_style_utils import task_names\n",
    "\n",
    "random.seed(42)\n",
    "np.random.seed(42)"
   ]
  },
  {
   "cell_type": "markdown",
   "metadata": {},
   "source": [
    "# Fold-level"
   ]
  },
  {
   "cell_type": "code",
   "execution_count": 5,
   "metadata": {},
   "outputs": [],
   "source": [
    "data_path = \"../../../data/\""
   ]
  },
  {
   "cell_type": "code",
   "execution_count": 7,
   "metadata": {},
   "outputs": [
    {
     "data": {
      "text/html": [
       "<style  type=\"text/css\" >\n",
       "    #T_7eac2ce8_24e7_11e9_8839_fdfb0c548a56row0_col0 {\n",
       "            color:  black;\n",
       "        }    #T_7eac2ce8_24e7_11e9_8839_fdfb0c548a56row0_col1 {\n",
       "            color:  black;\n",
       "        }    #T_7eac2ce8_24e7_11e9_8839_fdfb0c548a56row1_col0 {\n",
       "            color:  black;\n",
       "        }    #T_7eac2ce8_24e7_11e9_8839_fdfb0c548a56row1_col1 {\n",
       "            color:  black;\n",
       "        }    #T_7eac2ce8_24e7_11e9_8839_fdfb0c548a56row2_col0 {\n",
       "            color:  black;\n",
       "        }    #T_7eac2ce8_24e7_11e9_8839_fdfb0c548a56row2_col1 {\n",
       "            color:  black;\n",
       "        }    #T_7eac2ce8_24e7_11e9_8839_fdfb0c548a56row3_col0 {\n",
       "            background-color:  yellow;\n",
       "        }    #T_7eac2ce8_24e7_11e9_8839_fdfb0c548a56row3_col1 {\n",
       "            background-color:  yellow;\n",
       "        }    #T_7eac2ce8_24e7_11e9_8839_fdfb0c548a56row4_col0 {\n",
       "            color:  black;\n",
       "        }    #T_7eac2ce8_24e7_11e9_8839_fdfb0c548a56row4_col1 {\n",
       "            color:  black;\n",
       "        }    #T_7eac2ce8_24e7_11e9_8839_fdfb0c548a56row5_col0 {\n",
       "            color:  black;\n",
       "        }    #T_7eac2ce8_24e7_11e9_8839_fdfb0c548a56row5_col1 {\n",
       "            color:  black;\n",
       "        }    #T_7eac2ce8_24e7_11e9_8839_fdfb0c548a56row6_col0 {\n",
       "            color:  black;\n",
       "        }    #T_7eac2ce8_24e7_11e9_8839_fdfb0c548a56row6_col1 {\n",
       "            color:  black;\n",
       "        }    #T_7eac2ce8_24e7_11e9_8839_fdfb0c548a56row7_col0 {\n",
       "            color:  black;\n",
       "        }    #T_7eac2ce8_24e7_11e9_8839_fdfb0c548a56row7_col1 {\n",
       "            color:  black;\n",
       "        }    #T_7eac2ce8_24e7_11e9_8839_fdfb0c548a56row8_col0 {\n",
       "            color:  black;\n",
       "        }    #T_7eac2ce8_24e7_11e9_8839_fdfb0c548a56row8_col1 {\n",
       "            color:  black;\n",
       "        }</style>  \n",
       "<table id=\"T_7eac2ce8_24e7_11e9_8839_fdfb0c548a56\" ><caption>SCOP 1.67 Fold Level Remote Homology Detection</caption> \n",
       "<thead>    <tr> \n",
       "        <th class=\"blank level0\" ></th> \n",
       "        <th class=\"col_heading level0 col0\" >ROC</th> \n",
       "        <th class=\"col_heading level0 col1\" >ROC50</th> \n",
       "    </tr></thead> \n",
       "<tbody>    <tr> \n",
       "        <th id=\"T_7eac2ce8_24e7_11e9_8839_fdfb0c548a56level0_row0\" class=\"row_heading level0 row0\" >GPKernel</th> \n",
       "        <td id=\"T_7eac2ce8_24e7_11e9_8839_fdfb0c548a56row0_col0\" class=\"data row0 col0\" >0.84</td> \n",
       "        <td id=\"T_7eac2ce8_24e7_11e9_8839_fdfb0c548a56row0_col1\" class=\"data row0 col1\" >0.51</td> \n",
       "    </tr>    <tr> \n",
       "        <th id=\"T_7eac2ce8_24e7_11e9_8839_fdfb0c548a56level0_row1\" class=\"row_heading level0 row1\" >LA-Kernel</th> \n",
       "        <td id=\"T_7eac2ce8_24e7_11e9_8839_fdfb0c548a56row1_col0\" class=\"data row1 col0\" >0.83</td> \n",
       "        <td id=\"T_7eac2ce8_24e7_11e9_8839_fdfb0c548a56row1_col1\" class=\"data row1 col1\" >0.5</td> \n",
       "    </tr>    <tr> \n",
       "        <th id=\"T_7eac2ce8_24e7_11e9_8839_fdfb0c548a56level0_row2\" class=\"row_heading level0 row2\" >Mismatch</th> \n",
       "        <td id=\"T_7eac2ce8_24e7_11e9_8839_fdfb0c548a56row2_col0\" class=\"data row2 col0\" >0.81</td> \n",
       "        <td id=\"T_7eac2ce8_24e7_11e9_8839_fdfb0c548a56row2_col1\" class=\"data row2 col1\" >0.47</td> \n",
       "    </tr>    <tr> \n",
       "        <th id=\"T_7eac2ce8_24e7_11e9_8839_fdfb0c548a56level0_row3\" class=\"row_heading level0 row3\" >UniRep</th> \n",
       "        <td id=\"T_7eac2ce8_24e7_11e9_8839_fdfb0c548a56row3_col0\" class=\"data row3 col0\" >0.81</td> \n",
       "        <td id=\"T_7eac2ce8_24e7_11e9_8839_fdfb0c548a56row3_col1\" class=\"data row3 col1\" >0.44</td> \n",
       "    </tr>    <tr> \n",
       "        <th id=\"T_7eac2ce8_24e7_11e9_8839_fdfb0c548a56level0_row4\" class=\"row_heading level0 row4\" >GPextended</th> \n",
       "        <td id=\"T_7eac2ce8_24e7_11e9_8839_fdfb0c548a56row4_col0\" class=\"data row4 col0\" >0.75</td> \n",
       "        <td id=\"T_7eac2ce8_24e7_11e9_8839_fdfb0c548a56row4_col1\" class=\"data row4 col1\" >0.37</td> \n",
       "    </tr>    <tr> \n",
       "        <th id=\"T_7eac2ce8_24e7_11e9_8839_fdfb0c548a56level0_row5\" class=\"row_heading level0 row5\" >SVM-Pairwise</th> \n",
       "        <td id=\"T_7eac2ce8_24e7_11e9_8839_fdfb0c548a56row5_col0\" class=\"data row5 col0\" >0.72</td> \n",
       "        <td id=\"T_7eac2ce8_24e7_11e9_8839_fdfb0c548a56row5_col1\" class=\"data row5 col1\" >0.36</td> \n",
       "    </tr>    <tr> \n",
       "        <th id=\"T_7eac2ce8_24e7_11e9_8839_fdfb0c548a56level0_row6\" class=\"row_heading level0 row6\" >eMOTIF</th> \n",
       "        <td id=\"T_7eac2ce8_24e7_11e9_8839_fdfb0c548a56row6_col0\" class=\"data row6 col0\" >0.7</td> \n",
       "        <td id=\"T_7eac2ce8_24e7_11e9_8839_fdfb0c548a56row6_col1\" class=\"data row6 col1\" >0.31</td> \n",
       "    </tr>    <tr> \n",
       "        <th id=\"T_7eac2ce8_24e7_11e9_8839_fdfb0c548a56level0_row7\" class=\"row_heading level0 row7\" >GPBoost</th> \n",
       "        <td id=\"T_7eac2ce8_24e7_11e9_8839_fdfb0c548a56row7_col0\" class=\"data row7 col0\" >0.69</td> \n",
       "        <td id=\"T_7eac2ce8_24e7_11e9_8839_fdfb0c548a56row7_col1\" class=\"data row7 col1\" >0.3</td> \n",
       "    </tr>    <tr> \n",
       "        <th id=\"T_7eac2ce8_24e7_11e9_8839_fdfb0c548a56level0_row8\" class=\"row_heading level0 row8\" >PSI-BLAST</th> \n",
       "        <td id=\"T_7eac2ce8_24e7_11e9_8839_fdfb0c548a56row8_col0\" class=\"data row8 col0\" >0.5</td> \n",
       "        <td id=\"T_7eac2ce8_24e7_11e9_8839_fdfb0c548a56row8_col1\" class=\"data row8 col1\" >0.01</td> \n",
       "    </tr></tbody> \n",
       "</table> "
      ],
      "text/plain": [
       "<pandas.io.formats.style.Styler at 0x7fe3745b6eb8>"
      ]
     },
     "execution_count": 7,
     "metadata": {},
     "output_type": "execute_result"
    }
   ],
   "source": [
    "our = pd.DataFrame(pd.read_pickle(f\"{data_path}results/auc__RF_informedguess__handstad_folds__avg_hidden__results.pkl\")).T.mean()\n",
    "\n",
    "df = our.to_frame().T\n",
    "df.index = ['UniRep']\n",
    "df.columns = ['ROC50','ROC']\n",
    "df.loc['PSI-BLAST'] = [0.010,0.501 ]#,'Håndstad, 2007']\n",
    "df.loc['eMOTIF'] = [0.308,0.698 ]#,'Håndstad, 2007']\n",
    "df.loc['GPKernel'] = [0.514,0.844 ]#,'Håndstad 2007']\n",
    "df.loc['GPextended'] = [0.371, 0.753 ]#, 'Håndstad 2007']\n",
    "df.loc['GPBoost'] = [0.298, 0.688 ]#, 'Håndstad 2007']\n",
    "df.loc['SVM-Pairwise'] = [0.359, 0.724 ]#, 'Håndstad 2007']\n",
    "df.loc['LA-Kernel'] = [0.504, 0.834 ]#, 'Håndstad 2007']\n",
    "df.loc['Mismatch'] = [0.467, 0.814 ]#, 'Håndstad 2007']\n",
    "\n",
    "df[['ROC','ROC50']].sort_values(by='ROC', ascending=False).style.apply(lambda x: ['background-color: yellow','background-color: yellow'] if x.name == 'UniRep' else ['color: black']*2, axis=1).set_precision(2).set_caption('SCOP 1.67 Fold Level Remote Homology Detection')"
   ]
  },
  {
   "cell_type": "code",
   "execution_count": 8,
   "metadata": {},
   "outputs": [],
   "source": [
    "df_fold = df.copy()\n"
   ]
  },
  {
   "cell_type": "markdown",
   "metadata": {},
   "source": [
    "# Superfamily"
   ]
  },
  {
   "cell_type": "code",
   "execution_count": 10,
   "metadata": {},
   "outputs": [],
   "source": [
    "our_s = pd.DataFrame(pd.read_pickle(f\"{data_path}results/auc__RF_informedguess__handstad_superfamily__avg_hidden__results.pkl\")).T.mean()"
   ]
  },
  {
   "cell_type": "code",
   "execution_count": 11,
   "metadata": {},
   "outputs": [
    {
     "data": {
      "text/html": [
       "<style  type=\"text/css\" >\n",
       "    #T_b70ee076_24e7_11e9_8839_fdfb0c548a56row0_col0 {\n",
       "            color:  black;\n",
       "        }    #T_b70ee076_24e7_11e9_8839_fdfb0c548a56row0_col1 {\n",
       "            color:  black;\n",
       "        }    #T_b70ee076_24e7_11e9_8839_fdfb0c548a56row1_col0 {\n",
       "            color:  black;\n",
       "        }    #T_b70ee076_24e7_11e9_8839_fdfb0c548a56row1_col1 {\n",
       "            color:  black;\n",
       "        }    #T_b70ee076_24e7_11e9_8839_fdfb0c548a56row2_col0 {\n",
       "            background-color:  yellow;\n",
       "        }    #T_b70ee076_24e7_11e9_8839_fdfb0c548a56row2_col1 {\n",
       "            background-color:  yellow;\n",
       "        }    #T_b70ee076_24e7_11e9_8839_fdfb0c548a56row3_col0 {\n",
       "            color:  black;\n",
       "        }    #T_b70ee076_24e7_11e9_8839_fdfb0c548a56row3_col1 {\n",
       "            color:  black;\n",
       "        }    #T_b70ee076_24e7_11e9_8839_fdfb0c548a56row4_col0 {\n",
       "            color:  black;\n",
       "        }    #T_b70ee076_24e7_11e9_8839_fdfb0c548a56row4_col1 {\n",
       "            color:  black;\n",
       "        }    #T_b70ee076_24e7_11e9_8839_fdfb0c548a56row5_col0 {\n",
       "            color:  black;\n",
       "        }    #T_b70ee076_24e7_11e9_8839_fdfb0c548a56row5_col1 {\n",
       "            color:  black;\n",
       "        }    #T_b70ee076_24e7_11e9_8839_fdfb0c548a56row6_col0 {\n",
       "            color:  black;\n",
       "        }    #T_b70ee076_24e7_11e9_8839_fdfb0c548a56row6_col1 {\n",
       "            color:  black;\n",
       "        }    #T_b70ee076_24e7_11e9_8839_fdfb0c548a56row7_col0 {\n",
       "            color:  black;\n",
       "        }    #T_b70ee076_24e7_11e9_8839_fdfb0c548a56row7_col1 {\n",
       "            color:  black;\n",
       "        }    #T_b70ee076_24e7_11e9_8839_fdfb0c548a56row8_col0 {\n",
       "            color:  black;\n",
       "        }    #T_b70ee076_24e7_11e9_8839_fdfb0c548a56row8_col1 {\n",
       "            color:  black;\n",
       "        }</style>  \n",
       "<table id=\"T_b70ee076_24e7_11e9_8839_fdfb0c548a56\" ><caption>SCOP 1.67 Superfamily Level Remote Homology Detection</caption> \n",
       "<thead>    <tr> \n",
       "        <th class=\"blank level0\" ></th> \n",
       "        <th class=\"col_heading level0 col0\" >ROC</th> \n",
       "        <th class=\"col_heading level0 col1\" >ROC50</th> \n",
       "    </tr></thead> \n",
       "<tbody>    <tr> \n",
       "        <th id=\"T_b70ee076_24e7_11e9_8839_fdfb0c548a56level0_row0\" class=\"row_heading level0 row0\" >LA-Kernel</th> \n",
       "        <td id=\"T_b70ee076_24e7_11e9_8839_fdfb0c548a56row0_col0\" class=\"data row0 col0\" >0.92</td> \n",
       "        <td id=\"T_b70ee076_24e7_11e9_8839_fdfb0c548a56row0_col1\" class=\"data row0 col1\" >0.69</td> \n",
       "    </tr>    <tr> \n",
       "        <th id=\"T_b70ee076_24e7_11e9_8839_fdfb0c548a56level0_row1\" class=\"row_heading level0 row1\" >GPKernel</th> \n",
       "        <td id=\"T_b70ee076_24e7_11e9_8839_fdfb0c548a56row1_col0\" class=\"data row1 col0\" >0.9</td> \n",
       "        <td id=\"T_b70ee076_24e7_11e9_8839_fdfb0c548a56row1_col1\" class=\"data row1 col1\" >0.59</td> \n",
       "    </tr>    <tr> \n",
       "        <th id=\"T_b70ee076_24e7_11e9_8839_fdfb0c548a56level0_row2\" class=\"row_heading level0 row2\" >UniRep</th> \n",
       "        <td id=\"T_b70ee076_24e7_11e9_8839_fdfb0c548a56row2_col0\" class=\"data row2 col0\" >0.89</td> \n",
       "        <td id=\"T_b70ee076_24e7_11e9_8839_fdfb0c548a56row2_col1\" class=\"data row2 col1\" >0.49</td> \n",
       "    </tr>    <tr> \n",
       "        <th id=\"T_b70ee076_24e7_11e9_8839_fdfb0c548a56level0_row3\" class=\"row_heading level0 row3\" >Mismatch</th> \n",
       "        <td id=\"T_b70ee076_24e7_11e9_8839_fdfb0c548a56row3_col0\" class=\"data row3 col0\" >0.88</td> \n",
       "        <td id=\"T_b70ee076_24e7_11e9_8839_fdfb0c548a56row3_col1\" class=\"data row3 col1\" >0.54</td> \n",
       "    </tr>    <tr> \n",
       "        <th id=\"T_b70ee076_24e7_11e9_8839_fdfb0c548a56level0_row4\" class=\"row_heading level0 row4\" >GPextended</th> \n",
       "        <td id=\"T_b70ee076_24e7_11e9_8839_fdfb0c548a56row4_col0\" class=\"data row4 col0\" >0.87</td> \n",
       "        <td id=\"T_b70ee076_24e7_11e9_8839_fdfb0c548a56row4_col1\" class=\"data row4 col1\" >0.54</td> \n",
       "    </tr>    <tr> \n",
       "        <th id=\"T_b70ee076_24e7_11e9_8839_fdfb0c548a56level0_row5\" class=\"row_heading level0 row5\" >eMOTIF</th> \n",
       "        <td id=\"T_b70ee076_24e7_11e9_8839_fdfb0c548a56row5_col0\" class=\"data row5 col0\" >0.86</td> \n",
       "        <td id=\"T_b70ee076_24e7_11e9_8839_fdfb0c548a56row5_col1\" class=\"data row5 col1\" >0.55</td> \n",
       "    </tr>    <tr> \n",
       "        <th id=\"T_b70ee076_24e7_11e9_8839_fdfb0c548a56level0_row6\" class=\"row_heading level0 row6\" >SVM-Pairwise</th> \n",
       "        <td id=\"T_b70ee076_24e7_11e9_8839_fdfb0c548a56row6_col0\" class=\"data row6 col0\" >0.85</td> \n",
       "        <td id=\"T_b70ee076_24e7_11e9_8839_fdfb0c548a56row6_col1\" class=\"data row6 col1\" >0.56</td> \n",
       "    </tr>    <tr> \n",
       "        <th id=\"T_b70ee076_24e7_11e9_8839_fdfb0c548a56level0_row7\" class=\"row_heading level0 row7\" >GPBoost</th> \n",
       "        <td id=\"T_b70ee076_24e7_11e9_8839_fdfb0c548a56row7_col0\" class=\"data row7 col0\" >0.8</td> \n",
       "        <td id=\"T_b70ee076_24e7_11e9_8839_fdfb0c548a56row7_col1\" class=\"data row7 col1\" >0.38</td> \n",
       "    </tr>    <tr> \n",
       "        <th id=\"T_b70ee076_24e7_11e9_8839_fdfb0c548a56level0_row8\" class=\"row_heading level0 row8\" >PSI-BLAST</th> \n",
       "        <td id=\"T_b70ee076_24e7_11e9_8839_fdfb0c548a56row8_col0\" class=\"data row8 col0\" >0.57</td> \n",
       "        <td id=\"T_b70ee076_24e7_11e9_8839_fdfb0c548a56row8_col1\" class=\"data row8 col1\" >0.17</td> \n",
       "    </tr></tbody> \n",
       "</table> "
      ],
      "text/plain": [
       "<pandas.io.formats.style.Styler at 0x7fe3742855f8>"
      ]
     },
     "execution_count": 11,
     "metadata": {},
     "output_type": "execute_result"
    }
   ],
   "source": [
    "df = our_s.to_frame().T\n",
    "df.index = ['UniRep']\n",
    "df.columns = ['ROC50','ROC']\n",
    "df.loc['PSI-BLAST'] = [0.175, 0.575 ]#,'Håndstad, 2007']\n",
    "df.loc['eMOTIF'] = [0.551, 0.857 ]#,'Håndstad, 2007']\n",
    "df.loc['GPKernel'] = [0.591, 0.902 ]#,'Håndstad 2007']\n",
    "df.loc['GPextended'] = [0.542, 0.869 ]#, 'Håndstad 2007']\n",
    "df.loc['GPBoost'] = [0.375, 0.797 ]#, 'Håndstad 2007']\n",
    "df.loc['LA-Kernel'] = [0.686, 0.919 ]#, 'Håndstad 2007']\n",
    "df.loc['SVM-Pairwise'] = [0.555, 0.849 ]#, 'Håndstad 2007']\n",
    "df.loc['Mismatch'] = [0.543, 0.878 ]#, 'Håndstad 2007']\n",
    "\n",
    "df[['ROC','ROC50']].sort_values(by='ROC', ascending=False).style.apply(lambda x: ['background-color: yellow','background-color: yellow'] if x.name == 'UniRep' else ['color: black']*2, axis=1).set_precision(2).set_caption('SCOP 1.67 Superfamily Level Remote Homology Detection')"
   ]
  },
  {
   "cell_type": "code",
   "execution_count": 13,
   "metadata": {},
   "outputs": [],
   "source": [
    "palette = common_v2.plot_style_utils.set_pub_plot_context(colors='categorical', context=\"poster\")"
   ]
  },
  {
   "cell_type": "code",
   "execution_count": 14,
   "metadata": {},
   "outputs": [
    {
     "data": {
      "text/plain": [
       "Text(0.5,1,'Fold')"
      ]
     },
     "execution_count": 14,
     "metadata": {},
     "output_type": "execute_result"
    },
    {
     "data": {
      "image/png": "[encoded data removed]",
      "text/plain": [
       "<Figure size 288x360 with 2 Axes>"
      ]
     },
     "metadata": {},
     "output_type": "display_data"
    }
   ],
   "source": [
    "fig = plt.figure(figsize=(4,5))\n",
    "axs = fig.subplots(1,2)\n",
    "df.loc[['PSI-BLAST','UniRep'],'ROC'].plot(kind='bar', color=palette[0], ax=axs[0], ylim=(0,1))\n",
    "df_fold.loc[['PSI-BLAST','UniRep'],'ROC'].plot(kind='bar', color=palette[0], ax=axs[1], sharey=axs[0], ylim=(0,1))\n",
    "axs[0].set_title('Sfam')\n",
    "axs[1].set_title('Fold')\n",
    "#plot_style_utils.save_for_pub(fig=fig, path=\"./figures/blast\", dpi=250)"
   ]
  },
  {
   "cell_type": "code",
   "execution_count": null,
   "metadata": {},
   "outputs": [],
   "source": []
  }
 ],
 "metadata": {
  "kernelspec": {
   "display_name": "Python [conda env:grig_alldatasets_run]",
   "language": "python",
   "name": "conda-env-grig_alldatasets_run-py"
  }
 },
 "nbformat": 4,
 "nbformat_minor": 2
}
