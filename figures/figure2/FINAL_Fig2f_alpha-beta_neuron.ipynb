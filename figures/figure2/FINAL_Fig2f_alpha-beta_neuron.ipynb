{
 "cells": [
  {
   "cell_type": "raw",
   "metadata": {},
   "source": [
    "# Bash commands for getting requisite data files\n",
    "\n",
    "wget https://s3.amazonaws.com/protein-representation-learning/structural_interpretation/SCOP_unique_pdb_hidden_seqs/1/hidden_sequences.npy -O hidden_sequences1.npy &\n",
    "wget https://s3.amazonaws.com/protein-representation-learning/structural_interpretation/SCOP_unique_pdb_hidden_seqs/2/hidden_sequences.npy -O hidden_sequences2.npy &\n",
    "wget https://s3.amazonaws.com/protein-representation-learning/structural_interpretation/SCOP_unique_pdb_hidden_seqs/3/hidden_sequences.npy -O hidden_sequences3.npy &\n",
    "wget https://s3.amazonaws.com/protein-representation-learning/structural_interpretation/SCOP_unique_pdb_hidden_seqs/4/hidden_sequences.npy -O hidden_sequences4.npy"
   ]
  },
  {
   "cell_type": "markdown",
   "metadata": {},
   "source": [
    "### The following code needs a large memory machine to be executed (such as interactively in ipython, as a script or through a jupyter notebook server). \n",
    "For convenience, I recorded the obtained correlation values below, and saved the output as smaller files that can be easily visualized without much RAM"
   ]
  },
  {
   "cell_type": "raw",
   "metadata": {},
   "source": [
    "import numpy as np\n",
    "import pandas as pd\n",
    "hid_seqs = [np.load(f\"hidden_sequences{n}.npy\") for n in [1,2,3,4]]\n",
    "meta = pd.read_pickle(\"./scop_one_occurence_pdb_no_duplicate_sequences.pkl\")\n",
    "meta = meta.loc[meta.DSSP.dropna(how='both').index]\n",
    "hid_seqs = np.concatenate(hid_seqs)\n",
    "\n",
    "isalpha = lambda x: [l == 'H' for l in x]\n",
    "isbeta = lambda x: [l == 'E' for l in x]\n",
    "\n",
    "def get_slices_w_surrounding(ind, func=isalpha, cutoff=10, frac_cutoff=False):\n",
    "    seq = meta.DSSP[ind]\n",
    "    hel_inds = np.nonzero(func(seq))[0]\n",
    "    if len(hel_inds) == 0:\n",
    "        return []\n",
    "    starts = []\n",
    "    ends = []\n",
    "    for i,n in enumerate(hel_inds):\n",
    "        if i==0:\n",
    "            starts.append(n)\n",
    "            if n+1 not in hel_inds:\n",
    "                ends.append(n)\n",
    "        else:\n",
    "            if n-1 not in hel_inds:\n",
    "                starts.append(n)\n",
    "            if n+1 not in hel_inds:\n",
    "                ends.append(n)\n",
    "    neuron_n = 341\n",
    "    hel_activs = []\n",
    "\n",
    "    for i in range(len(starts)):\n",
    "        #print(starts,ends,hid_seqs[ind])\n",
    "        if frac_cutoff:\n",
    "            cutoff = np.int(np.floor((ends[i]-starts[i])*frac_cutoff))\n",
    "             \n",
    "        if (starts[i] > cutoff) & (hid_seqs[ind].shape[0] - ends[i] > cutoff):\n",
    "            if starts[i] != ends[i]:\n",
    "                hel_activs.append(hid_seqs[ind][np.arange(starts[i]-cutoff, ends[i]+cutoff),neuron_n])\n",
    "    return hel_activs\n",
    "\n",
    "all_beta_slices = []\n",
    "for i in meta.index:\n",
    "    sls = get_slices_w_surrounding(i, isbeta, frac_cutoff=0.3)\n",
    "    if len(sls) > 0:\n",
    "        #print(i)\n",
    "       \n",
    "        for s in sls:\n",
    "            all_beta_slices.append(s)\n",
    "            \n",
    "all_helical_slices = []\n",
    "for i in meta.index:\n",
    "    sls = get_slices_w_surrounding(i, isalpha, frac_cutoff=0.3)\n",
    "    if len(sls) > 0:\n",
    "        for s in sls:\n",
    "            all_helical_slices.append(s)\n",
    "            \n",
    "s= ''\n",
    "p=[]\n",
    "for i in meta.index:\n",
    "    s += meta.DSSP[i]\n",
    "    for j in range(len(meta.DSSP[i])):\n",
    "        p.append(hid_seqs[i][j,341])\n",
    "        \n",
    "a_labels = isalpha(s)\n",
    "import scipy.stats\n",
    "print('all')\n",
    "print('alpha',scipy.stats.pearsonr(a_labels, p))\n",
    "b_labels = isbeta(s)\n",
    "print('beta',scipy.stats.pearsonr(b_labels, p))\n",
    "            \n",
    "np.save('all_beta_slices_w_0_3_surrounding', all_beta_slices)\n",
    "np.save('all_helical_slices_w_0_3_surrounding', all_helical_slices)\n",
    "\n",
    "\n",
    "\n",
    "\n",
    "\n",
    "meta['class'] = meta.SCOPid.map(lambda s: s.split('.')[0])\n",
    "meta = meta[meta['class'] != 'f']\n",
    "\n",
    "s= ''\n",
    "p=[]\n",
    "for i in meta.index:\n",
    "    s += meta.DSSP[i]\n",
    "    for j in range(len(meta.DSSP[i])):\n",
    "        p.append(hid_seqs[i][j,341])\n",
    "        \n",
    "a_labels = isalpha(s)\n",
    "import scipy.stats\n",
    "print('no_membrane')\n",
    "print('alpha',scipy.stats.pearsonr(a_labels, p))\n",
    "b_labels = isbeta(s)\n",
    "print('beta',scipy.stats.pearsonr(b_labels, p))\n",
    "\n",
    "all_beta_slices = []\n",
    "for i in meta.index:\n",
    "    sls = get_slices_w_surrounding(i, isbeta, frac_cutoff=0.3)\n",
    "    if len(sls) > 0:\n",
    "        #print(i)\n",
    "       \n",
    "        for s in sls:\n",
    "            all_beta_slices.append(s)\n",
    "            \n",
    "all_helical_slices = []\n",
    "for i in meta.index:\n",
    "    sls = get_slices_w_surrounding(i, isalpha, frac_cutoff=0.3)\n",
    "    if len(sls) > 0:\n",
    "        for s in sls:\n",
    "            all_helical_slices.append(s)\n",
    "            \n",
    "np.save('all_helical_slices_w_0_3_surrounding_no_membr', all_helical_slices)\n",
    "np.save('all_beta_slices_w_0_3_surrounding_no_membr', all_beta_slices)"
   ]
  },
  {
   "cell_type": "raw",
   "metadata": {},
   "source": [
    "#### Output of the code above (correlations of neuron 341 with alpha-helix/beta-sheet annotation of aminoacids in SCOP proteins - all proteins and all excluding membrane proteins):\n",
    "all\n",
    "alpha (0.33347773264259178, 0.0)\n",
    "beta (-0.34749444847147876, 0.0)\n",
    "no_membrane\n",
    "alpha (0.34317836756999887, 0.0)\n",
    "beta (-0.35264594770917934, 0.0)"
   ]
  },
  {
   "cell_type": "markdown",
   "metadata": {},
   "source": [
    "# Fig 2g - visualizing neuron activation across secondary structure features"
   ]
  },
  {
   "cell_type": "code",
   "execution_count": 5,
   "metadata": {},
   "outputs": [],
   "source": [
    "import os\n",
    "import pandas as pd\n",
    "import sys\n",
    "import os\n",
    "from subprocess import call\n",
    "\n",
    "#%matplotlib inline\n",
    "import matplotlib.pyplot as plt\n",
    "import seaborn as sns\n",
    "import matplotlib.gridspec as gridspec\n",
    "\n",
    "sys.path.append(\"../../\")\n",
    "from common_v2.validation_tools import regr_datasets, subsets, metrics, reps, transfer_datasets, pearson\n",
    "import common_v2.validation_tools\n",
    "from IPython.display import display, HTML\n",
    "import numpy as np\n",
    "\n",
    "import random\n",
    "from scipy.stats import ttest_1samp\n",
    "from scipy.signal import savgol_filter\n",
    "from sklearn.externals import joblib\n",
    "from matplotlib.lines import Line2D\n",
    "\n",
    "from common_v2.plot_style_utils import task_names\n",
    "import common_v2.plot_style_utils as plot_style_utils\n",
    "\n",
    "random.seed(42)\n",
    "np.random.seed(42)"
   ]
  },
  {
   "cell_type": "markdown",
   "metadata": {},
   "source": [
    "## Including membrane proteins"
   ]
  },
  {
   "cell_type": "code",
   "execution_count": 7,
   "metadata": {},
   "outputs": [],
   "source": [
    "data_path = \"../../../data/\""
   ]
  },
  {
   "cell_type": "code",
   "execution_count": 9,
   "metadata": {},
   "outputs": [],
   "source": [
    "all_helical_slices = np.load(f\"{data_path}all_helical_slices_w_0_3_surrounding.npy\")\n",
    "\n",
    "all_beta_slices = np.load(f\"{data_path}all_beta_slices_w_0_3_surrounding.npy\")"
   ]
  },
  {
   "cell_type": "code",
   "execution_count": 10,
   "metadata": {},
   "outputs": [
    {
     "data": {
      "text/plain": [
       "<matplotlib.axes._subplots.AxesSubplot at 0x7fa8f9fd62e8>"
      ]
     },
     "execution_count": 10,
     "metadata": {},
     "output_type": "execute_result"
    },
    {
     "data": {
      "image/png": "[encoded data removed]",
      "text/plain": [
       "<Figure size 432x288 with 1 Axes>"
      ]
     },
     "metadata": {},
     "output_type": "display_data"
    }
   ],
   "source": [
    "pd.Series(all_helical_slices).map(len).hist()"
   ]
  },
  {
   "cell_type": "code",
   "execution_count": 11,
   "metadata": {},
   "outputs": [
    {
     "data": {
      "text/plain": [
       "(20217,)"
      ]
     },
     "execution_count": 11,
     "metadata": {},
     "output_type": "execute_result"
    }
   ],
   "source": [
    "all_beta_slices.shape"
   ]
  },
  {
   "cell_type": "code",
   "execution_count": 12,
   "metadata": {},
   "outputs": [
    {
     "data": {
      "text/plain": [
       "<matplotlib.axes._subplots.AxesSubplot at 0x7fa8e63781d0>"
      ]
     },
     "execution_count": 12,
     "metadata": {},
     "output_type": "execute_result"
    },
    {
     "data": {
      "image/png": "[encoded data removed]",
      "text/plain": [
       "<Figure size 432x288 with 1 Axes>"
      ]
     },
     "metadata": {},
     "output_type": "display_data"
    }
   ],
   "source": [
    "pd.Series(all_beta_slices).map(len).hist()"
   ]
  },
  {
   "cell_type": "code",
   "execution_count": 13,
   "metadata": {},
   "outputs": [
    {
     "data": {
      "text/plain": [
       "(14122,)"
      ]
     },
     "execution_count": 13,
     "metadata": {},
     "output_type": "execute_result"
    }
   ],
   "source": [
    "all_helical_slices.shape"
   ]
  },
  {
   "cell_type": "code",
   "execution_count": 14,
   "metadata": {},
   "outputs": [],
   "source": [
    "all_helical_scatter = []\n",
    "for s in all_helical_slices:                                                               \n",
    "    l = len(s)\n",
    "    for i,v in enumerate(s):\n",
    "        all_helical_scatter.append([float(i)/l,v])\n",
    "all_helical_scatter = pd.DataFrame(all_helical_scatter)"
   ]
  },
  {
   "cell_type": "code",
   "execution_count": 15,
   "metadata": {},
   "outputs": [],
   "source": [
    "all_beta_scatter = []\n",
    "for s in all_beta_slices:                                                               \n",
    "    l = len(s)\n",
    "    for i,v in enumerate(s):\n",
    "        all_beta_scatter.append([float(i)/l,v])\n",
    "all_beta_scatter = pd.DataFrame(all_beta_scatter)"
   ]
  },
  {
   "cell_type": "code",
   "execution_count": 16,
   "metadata": {},
   "outputs": [],
   "source": [
    "all_helical_scatter[0] = np.around(all_helical_scatter[0].values,2)\n",
    "\n",
    "all_beta_scatter[0] = np.around(all_beta_scatter[0].values,2)"
   ]
  },
  {
   "cell_type": "code",
   "execution_count": 17,
   "metadata": {},
   "outputs": [],
   "source": [
    "plot_style_utils.set_pub_plot_context(colors='categorical', context=\"poster\")\n",
    "\n",
    "palette = sns.color_palette()"
   ]
  },
  {
   "cell_type": "code",
   "execution_count": 19,
   "metadata": {
    "scrolled": true
   },
   "outputs": [
    {
     "data": {
      "text/plain": [
       "Text(0,0.5,'Secondary Structure \\n Neuron Activation')"
      ]
     },
     "execution_count": 19,
     "metadata": {},
     "output_type": "execute_result"
    },
    {
     "data": {
      "image/png": "[encoded data removed]",
      "text/plain": [
       "<Figure size 108x144 with 1 Axes>"
      ]
     },
     "metadata": {},
     "output_type": "display_data"
    }
   ],
   "source": [
    "ws = 53\n",
    "pol_o = 2\n",
    "fig, a = plt.subplots(1,1, figsize=(1.5,2))\n",
    "\n",
    "a.plot(all_helical_scatter.groupby(0).mean().index,\n",
    "savgol_filter(all_helical_scatter.groupby(0).mean().values.flatten(), ws, pol_o),\n",
    "   label='alpha'\n",
    "   )\n",
    "\n",
    "a.plot(all_beta_scatter.groupby(0).mean().index,\n",
    "savgol_filter(all_beta_scatter.groupby(0).mean().values.flatten(), ws, pol_o),\n",
    "   label='beta'\n",
    "    )\n",
    "\n",
    "plt.hlines(0, 0, 1)\n",
    "plt.vlines(0.1875,-0.1,0.1, colors='grey')\n",
    "plt.vlines(0.8125,-0.1,0.1, colors='grey')\n",
    "\n",
    "plt.ylabel('Secondary Structure \\n Neuron Activation')\n",
    "#plot_style_utils.save_for_pub(fig, path=f\"./figures/alphabetaneuron\", dpi=500)"
   ]
  },
  {
   "cell_type": "markdown",
   "metadata": {},
   "source": [
    "## Excluding membrane proteins (an extra check) - it's conceivable that the model could have learned the difference between exposed alpha-helices and those burried in hydrophobic regions"
   ]
  },
  {
   "cell_type": "code",
   "execution_count": 21,
   "metadata": {},
   "outputs": [],
   "source": [
    "all_helical_slices = np.load(f\"{data_path}all_helical_slices_w_0_3_surrounding_no_membr.npy\")\n",
    "\n",
    "all_beta_slices = np.load(f\"{data_path}all_beta_slices_w_0_3_surrounding_no_membr.npy\")"
   ]
  },
  {
   "cell_type": "code",
   "execution_count": 22,
   "metadata": {},
   "outputs": [
    {
     "data": {
      "text/plain": [
       "<matplotlib.axes._subplots.AxesSubplot at 0x7fa8e59d5438>"
      ]
     },
     "execution_count": 22,
     "metadata": {},
     "output_type": "execute_result"
    },
    {
     "data": {
      "image/png": "[encoded data removed]",
      "text/plain": [
       "<Figure size 432x288 with 1 Axes>"
      ]
     },
     "metadata": {},
     "output_type": "display_data"
    }
   ],
   "source": [
    "pd.Series(all_helical_slices).map(len).hist()"
   ]
  },
  {
   "cell_type": "code",
   "execution_count": 23,
   "metadata": {},
   "outputs": [
    {
     "data": {
      "text/plain": [
       "(20058,)"
      ]
     },
     "execution_count": 23,
     "metadata": {},
     "output_type": "execute_result"
    }
   ],
   "source": [
    "all_beta_slices.shape"
   ]
  },
  {
   "cell_type": "code",
   "execution_count": 24,
   "metadata": {},
   "outputs": [
    {
     "data": {
      "text/plain": [
       "<matplotlib.axes._subplots.AxesSubplot at 0x7fa8e5513ba8>"
      ]
     },
     "execution_count": 24,
     "metadata": {},
     "output_type": "execute_result"
    },
    {
     "data": {
      "image/png": "[encoded data removed]",
      "text/plain": [
       "<Figure size 432x288 with 1 Axes>"
      ]
     },
     "metadata": {},
     "output_type": "display_data"
    }
   ],
   "source": [
    "pd.Series(all_beta_slices).map(len).hist()"
   ]
  },
  {
   "cell_type": "code",
   "execution_count": 25,
   "metadata": {},
   "outputs": [
    {
     "data": {
      "text/plain": [
       "(13783,)"
      ]
     },
     "execution_count": 25,
     "metadata": {},
     "output_type": "execute_result"
    }
   ],
   "source": [
    "all_helical_slices.shape"
   ]
  },
  {
   "cell_type": "code",
   "execution_count": 26,
   "metadata": {},
   "outputs": [],
   "source": [
    "all_helical_scatter = []\n",
    "for s in all_helical_slices:                                                               \n",
    "    l = len(s)\n",
    "    for i,v in enumerate(s):\n",
    "        all_helical_scatter.append([float(i)/l,v])\n",
    "all_helical_scatter = pd.DataFrame(all_helical_scatter)"
   ]
  },
  {
   "cell_type": "code",
   "execution_count": 27,
   "metadata": {},
   "outputs": [],
   "source": [
    "all_beta_scatter = []\n",
    "for s in all_beta_slices:                                                               \n",
    "    l = len(s)\n",
    "    for i,v in enumerate(s):\n",
    "        all_beta_scatter.append([float(i)/l,v])\n",
    "all_beta_scatter = pd.DataFrame(all_beta_scatter)"
   ]
  },
  {
   "cell_type": "code",
   "execution_count": 28,
   "metadata": {},
   "outputs": [],
   "source": [
    "all_helical_scatter[0] = np.around(all_helical_scatter[0].values,2)\n",
    "\n",
    "all_beta_scatter[0] = np.around(all_beta_scatter[0].values,2)"
   ]
  },
  {
   "cell_type": "code",
   "execution_count": 29,
   "metadata": {},
   "outputs": [],
   "source": [
    "plot_style_utils.set_pub_plot_context(colors='categorical', context=\"poster\")\n",
    "\n",
    "palette = sns.color_palette()"
   ]
  },
  {
   "cell_type": "markdown",
   "metadata": {},
   "source": [
    "#### results are broadly similar:"
   ]
  },
  {
   "cell_type": "code",
   "execution_count": 31,
   "metadata": {
    "scrolled": true
   },
   "outputs": [
    {
     "data": {
      "text/plain": [
       "Text(0,0.5,'Secondary Structure \\n Neuron Activation')"
      ]
     },
     "execution_count": 31,
     "metadata": {},
     "output_type": "execute_result"
    },
    {
     "data": {
      "image/png": "[encoded data removed]",
      "text/plain": [
       "<Figure size 108x144 with 1 Axes>"
      ]
     },
     "metadata": {},
     "output_type": "display_data"
    }
   ],
   "source": [
    "ws = 53\n",
    "pol_o = 2\n",
    "fig, a = plt.subplots(1,1, figsize=(1.5,2))\n",
    "\n",
    "a.plot(all_helical_scatter.groupby(0).mean().index,\n",
    "savgol_filter(all_helical_scatter.groupby(0).mean().values.flatten(), ws, pol_o),\n",
    "   label='alpha'\n",
    "   )\n",
    "\n",
    "a.plot(all_beta_scatter.groupby(0).mean().index,\n",
    "savgol_filter(all_beta_scatter.groupby(0).mean().values.flatten(), ws, pol_o),\n",
    "   label='beta'\n",
    "    )\n",
    "\n",
    "\n",
    "plt.hlines(0, 0, 1)\n",
    "plt.vlines(0.1875,-0.1,0.1, colors='grey')\n",
    "plt.vlines(0.8125,-0.1,0.1, colors='grey')\n",
    "\n",
    "plt.ylabel('Secondary Structure \\n Neuron Activation')\n",
    "#plot_style_utils.save_for_pub(fig, path=f\"./figures/alphabetaneuron\", dpi=500)"
   ]
  },
  {
   "cell_type": "code",
   "execution_count": null,
   "metadata": {},
   "outputs": [],
   "source": []
  }
 ],
 "metadata": {
  "kernelspec": {
   "display_name": "Python 3",
   "language": "python",
   "name": "python3"
  },
  "language_info": {
   "codemirror_mode": {
    "name": "ipython",
    "version": 3
   },
   "file_extension": ".py",
   "mimetype": "text/x-python",
   "name": "python",
   "nbconvert_exporter": "python",
   "pygments_lexer": "ipython3",
   "version": "3.6.0"
  }
 },
 "nbformat": 4,
 "nbformat_minor": 2
}
