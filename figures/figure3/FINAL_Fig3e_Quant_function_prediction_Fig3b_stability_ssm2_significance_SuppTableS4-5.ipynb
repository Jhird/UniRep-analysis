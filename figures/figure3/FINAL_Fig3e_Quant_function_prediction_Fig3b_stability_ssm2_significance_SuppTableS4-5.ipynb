{
 "cells": [
  {
   "cell_type": "code",
   "execution_count": 1,
   "metadata": {},
   "outputs": [],
   "source": [
    "import os\n",
    "import pandas as pd\n",
    "import sys\n",
    "import os\n",
    "from subprocess import call\n",
    "\n",
    "#%matplotlib inline\n",
    "import matplotlib.pyplot as plt\n",
    "import seaborn as sns\n",
    "import matplotlib.gridspec as gridspec\n",
    "sys.path.append(\"../../\")\n",
    "\n",
    "from common_v2.validation_tools import regr_datasets, subsets, metrics, reps, transfer_datasets, pearson\n",
    "import common_v2.validation_tools\n",
    "from IPython.display import display, HTML\n",
    "import numpy as np\n",
    "\n",
    "import random\n",
    "from scipy.stats import ttest_1samp\n",
    "from sklearn.externals import joblib\n",
    "from matplotlib.lines import Line2D\n",
    "\n",
    "import common_v2.plot_style_utils as plot_style_utils\n",
    "from common_v2.plot_style_utils import task_names\n",
    "\n",
    "random.seed(42)\n",
    "np.random.seed(42)"
   ]
  },
  {
   "cell_type": "code",
   "execution_count": 2,
   "metadata": {},
   "outputs": [],
   "source": [
    "run_type = 'test' # change to 'validate' and rerun the notebook if interested in the validation set scores"
   ]
  },
  {
   "cell_type": "markdown",
   "metadata": {},
   "source": [
    "## Data import and helpful functions putting the data in a nicer format"
   ]
  },
  {
   "cell_type": "code",
   "execution_count": 4,
   "metadata": {},
   "outputs": [],
   "source": [
    "#path_to_pieces = f\"../data/pieces_new/\"\n",
    "data_path = \"../../../data/\"\n",
    "\n",
    "stds = pd.read_csv(f\"{data_path}std_results_val_resamp.csv\", index_col=0)\n",
    "\n",
    "regr_datasets.loc[9] = 'rocklin_ssm2_nat_eng'\n",
    "\n",
    "def get_tab_dict(metric, to_plot=False):\n",
    "    \n",
    "    fig_n=1\n",
    "\n",
    "    tab_dict = {}\n",
    "\n",
    "    for d in regr_datasets:\n",
    "        ss = subsets[d]\n",
    "        if (len(ss) > 1) & (d != 'rocklin_ssm2_nat_eng'):\n",
    "            ss = list(ss)+[\"full\"]\n",
    "        for s in ss:\n",
    "            rep_dict = {}\n",
    "            std_dict = {}\n",
    "            for rep in reps:\n",
    "                try:\n",
    "                    rep_dict[rep] = pd.read_csv(\n",
    "                        f\"{data_path}results/{d}__{s}__{rep}__{run_type}__regression_results.csv\", header=None, index_col=0\n",
    "                    ).loc[metric].iloc[0]\n",
    "                    std_dict[rep] = stds.loc[f\"{d}__{s}__{rep}__{run_type}\"][metric]\n",
    "                except Exception as e:\n",
    "                    print(e)\n",
    "            try:\n",
    "                ser = pd.Series(rep_dict).sort_values(ascending=False)\n",
    "                tab = pd.concat([ser, pd.Series(std_dict).loc[ser.index]], axis=1)\n",
    "                tab.columns = ['avg','stdev']\n",
    "                if to_plot:\n",
    "                    \n",
    "                    tab_to_plot = tab.copy()\n",
    "                    \n",
    "                    tab_to_plot.index = [plot_style_utils.rep_names[n] for n in tab_to_plot.index]\n",
    "                    \n",
    "                tab_dict[(d,s)] = tab\n",
    "            except Exception as e:\n",
    "                print(e)\n",
    "    return tab_dict\n",
    "\n",
    "all_df = pd.Series(get_tab_dict('mse'))\n",
    "ascending = True\n",
    "#our_rep = 'all_1900'\n",
    "\n",
    "d = 'arnold_T50'\n",
    "s = 'T50'\n",
    "\n",
    "final_rep_rough_names = ['all_1900','best_other_rep', 'RGN', 'best_arnold_rep', ]\n",
    "\n",
    "def get_pub_reps_only(single_subset_df, by='avg'):\n",
    "\n",
    "    best_arnold_name = single_subset_df.loc[[\n",
    "        \"arnold_original_3_7\", \n",
    "        \"arnold_scrambled_3_5\", \n",
    "        \"arnold_random_3_7\", \n",
    "        \"arnold_uniform_4_1\"\n",
    "    ]].sort_values(by=by,ascending=ascending).iloc[0].name\n",
    "\n",
    "    best_other_name = single_subset_df.loc[[\n",
    "        \"simple_freq_plus\",\"simple_freq_and_len\",\n",
    "        \"tfidf_3grams\", \"3grams\", \"tfidf_2grams\", \"2grams\"\n",
    "    ]].sort_values(by=by,ascending=ascending).iloc[0].name\n",
    "    \n",
    "    to_return = single_subset_df.loc[['all_1900',best_other_name,'RGN', best_arnold_name]] #.sort_values(by='avg',ascending=ascending)\n",
    "\n",
    "    to_return.index = final_rep_rough_names\n",
    "    \n",
    "    return to_return"
   ]
  },
  {
   "cell_type": "code",
   "execution_count": 5,
   "metadata": {},
   "outputs": [],
   "source": [
    "all_df_pub_reps = all_df.copy().map(get_pub_reps_only)"
   ]
  },
  {
   "cell_type": "markdown",
   "metadata": {},
   "source": [
    "## Fig 3b: statistical significance for comparisons against baselines for individual  proteins"
   ]
  },
  {
   "cell_type": "code",
   "execution_count": 8,
   "metadata": {},
   "outputs": [],
   "source": [
    "all_df_for_rocklin_fig = pd.Series(get_tab_dict('pearson_r'))\n",
    "\n",
    "d = 'rocklin_ssm2'\n",
    "s = 'villin_ssm2_stability'\n",
    "\n",
    "ascending=True"
   ]
  },
  {
   "cell_type": "code",
   "execution_count": 9,
   "metadata": {},
   "outputs": [
    {
     "name": "stdout",
     "output_type": "stream",
     "text": [
      "rocklin_ssm2 EEHEE_rd3_0037.pdb_ssm2_stability\n",
      "20.2792865234 5.42444832061e-21\n",
      "\n",
      "\n",
      "rocklin_ssm2 EEHEE_rd3_1498.pdb_ssm2_stability\n",
      "23.544320929 1.56642937208e-21\n",
      "\n",
      "\n",
      "rocklin_ssm2 EEHEE_rd3_1702.pdb_ssm2_stability\n",
      "2.91728963671 0.00553364746131\n",
      "\n",
      "\n",
      "rocklin_ssm2 EEHEE_rd3_1716.pdb_ssm2_stability\n",
      "27.861856155 5.15769371604e-26\n",
      "\n",
      "\n",
      "rocklin_ssm2 EHEE_0882.pdb_ssm2_stability\n",
      "21.5410351947 2.43924278545e-28\n",
      "\n",
      "\n",
      "rocklin_ssm2 EHEE_rd2_0005.pdb_ssm2_stability\n",
      "18.6773035965 6.5458719436e-25\n",
      "\n",
      "\n",
      "rocklin_ssm2 EHEE_rd3_0015.pdb_ssm2_stability\n",
      "17.4792083106 2.51711193878e-23\n",
      "\n",
      "\n",
      "rocklin_ssm2 HEEH_rd2_0779.pdb_ssm2_stability\n",
      "17.3464328045 2.00314229136e-20\n",
      "\n",
      "\n",
      "rocklin_ssm2 HEEH_rd3_0223.pdb_ssm2_stability\n",
      "20.0483560268 5.71236770973e-21\n",
      "\n",
      "\n",
      "rocklin_ssm2 HEEH_rd3_0726.pdb_ssm2_stability\n",
      "22.8965110246 1.32522745518e-24\n",
      "\n",
      "\n",
      "rocklin_ssm2 HEEH_rd3_0872.pdb_ssm2_stability\n",
      "25.2515939332 3.42068403622e-24\n",
      "\n",
      "\n",
      "rocklin_ssm2 HHH_0142.pdb_ssm2_stability\n",
      "15.2396129407 5.18705608928e-16\n",
      "\n",
      "\n",
      "rocklin_ssm2 HHH_rd2_0134.pdb_ssm2_stability\n",
      "17.2232481478 3.54012354028e-18\n",
      "\n",
      "\n",
      "rocklin_ssm2 HHH_rd3_0138.pdb_ssm2_stability\n",
      "26.8795259041 1.14646587414e-30\n",
      "\n",
      "\n",
      "rocklin_ssm2 Pin1_ssm2_stability\n",
      "20.7350109851 3.12427185038e-22\n",
      "\n",
      "\n",
      "rocklin_ssm2 hYAP65_ssm2_stability\n",
      "24.0653536543 2.24840265091e-24\n",
      "\n",
      "\n",
      "rocklin_ssm2 villin_ssm2_stability\n",
      "26.419953677 1.19465790271e-26\n",
      "\n",
      "\n"
     ]
    }
   ],
   "source": [
    "from scipy.stats import ttest_ind_from_stats\n",
    "\n",
    "\n",
    "size = 10000\n",
    "\n",
    "b_reps = [\n",
    "         \"mean\",\n",
    "        \"simple_freq_plus\",\"simple_freq_and_len\",\n",
    "        \"tfidf_3grams\", \"3grams\", \"tfidf_2grams\", \"2grams\"] # \"RGN\", \"arnold_original_3_7\", \"arnold_scrambled_3_5\", \"arnold_random_3_7\", \"arnold_uniform_4_1\",\n",
    "\n",
    "for s in subsets[d]:\n",
    "    print(d,s)\n",
    "        \n",
    "    pvalue = ttest_ind_from_stats(\n",
    "        mean1 = all_df_for_rocklin_fig[d][s].loc[['all_1900']].sort_values(by='avg',ascending=ascending).avg.iloc[0],\n",
    "        std1 = all_df_for_rocklin_fig[d][s].loc[['all_1900']].sort_values(by='avg',ascending=ascending).stdev.iloc[0],\n",
    "        nobs1=30,\n",
    "        mean2 = all_df_for_rocklin_fig[d][s].loc[b_reps].sort_values(by='avg',ascending=ascending).avg.iloc[0],\n",
    "        std2 = all_df_for_rocklin_fig[d][s].loc[b_reps].sort_values(by='avg',ascending=ascending).stdev.iloc[0],\n",
    "        nobs2=30,\n",
    "        equal_var = False\n",
    "    )\n",
    "    print(pvalue[0],pvalue[1])\n",
    "    print(\"\\n\")"
   ]
  },
  {
   "cell_type": "code",
   "execution_count": 10,
   "metadata": {},
   "outputs": [
    {
     "name": "stderr",
     "output_type": "stream",
     "text": [
      "/home/gr/miniconda3/envs/grig_alldatasets_run/lib/python3.6/site-packages/pandas/core/generic.py:3111: PerformanceWarning: dropping on a non-lexsorted multi-index without a level parameter may impact performance.\n",
      "  obj = obj._drop_axis(labels, axis, level=level, errors=errors)\n"
     ]
    }
   ],
   "source": [
    "for s in all_df_pub_reps['rocklin_ssm2'].index:\n",
    "    if s != 'full':\n",
    "       \n",
    "        all_df_pub_reps.drop(('rocklin_ssm2', s), inplace=True)\n",
    "\n",
    "for d in ['solubility', 'leuenberger']:\n",
    "    all_df_pub_reps.drop(d, inplace=True)\n",
    "    \n",
    "all_df_pub_reps.drop(('fowler','full'), inplace=True)"
   ]
  },
  {
   "cell_type": "code",
   "execution_count": 11,
   "metadata": {},
   "outputs": [],
   "source": [
    "final_table = pd.DataFrame(index=final_rep_rough_names, columns= all_df_pub_reps.index)"
   ]
  },
  {
   "cell_type": "code",
   "execution_count": 12,
   "metadata": {},
   "outputs": [],
   "source": [
    "for d,s in final_table.columns:\n",
    "    for rep in final_table.index:\n",
    "        final_table.loc[rep, (d,s)] = all_df_pub_reps[d][s].loc[rep].avg"
   ]
  },
  {
   "cell_type": "code",
   "execution_count": 13,
   "metadata": {},
   "outputs": [],
   "source": [
    "final_table_std = pd.DataFrame(index=final_rep_rough_names, columns= all_df_pub_reps.index)\n",
    "\n",
    "for d,s in final_table_std.columns:\n",
    "    for rep in final_table_std.index:\n",
    "        final_table_std.loc[rep, (d,s)] = all_df_pub_reps[d][s].loc[rep].stdev"
   ]
  },
  {
   "cell_type": "code",
   "execution_count": 14,
   "metadata": {},
   "outputs": [],
   "source": [
    "def highlight_min(s):\n",
    "    '''\n",
    "    highlight the maximum in a Series green.\n",
    "    '''\n",
    "    is_min = s == s.min()\n",
    "    return ['background-color: lightgreen' if v else '' for v in is_min]\n",
    "\n",
    "def highlight_max(s):\n",
    "    '''\n",
    "    highlight the maximum in a Series green.\n",
    "    '''\n",
    "    is_max = s == s.max()\n",
    "    return ['background-color: lightgreen' if v else '' for v in is_max]"
   ]
  },
  {
   "cell_type": "code",
   "execution_count": 15,
   "metadata": {},
   "outputs": [
    {
     "data": {
      "text/html": [
       "<style  type=\"text/css\" >\n",
       "    #T_4ccbec94_c47f_11e9_838c_6d7c87f6fa87row0_col0 {\n",
       "            background-color:  lightgreen;\n",
       "        }    #T_4ccbec94_c47f_11e9_838c_6d7c87f6fa87row0_col1 {\n",
       "            background-color:  lightgreen;\n",
       "        }    #T_4ccbec94_c47f_11e9_838c_6d7c87f6fa87row0_col4 {\n",
       "            background-color:  lightgreen;\n",
       "        }    #T_4ccbec94_c47f_11e9_838c_6d7c87f6fa87row0_col5 {\n",
       "            background-color:  lightgreen;\n",
       "        }    #T_4ccbec94_c47f_11e9_838c_6d7c87f6fa87row0_col6 {\n",
       "            background-color:  lightgreen;\n",
       "        }    #T_4ccbec94_c47f_11e9_838c_6d7c87f6fa87row0_col7 {\n",
       "            background-color:  lightgreen;\n",
       "        }    #T_4ccbec94_c47f_11e9_838c_6d7c87f6fa87row0_col8 {\n",
       "            background-color:  lightgreen;\n",
       "        }    #T_4ccbec94_c47f_11e9_838c_6d7c87f6fa87row0_col9 {\n",
       "            background-color:  lightgreen;\n",
       "        }    #T_4ccbec94_c47f_11e9_838c_6d7c87f6fa87row0_col10 {\n",
       "            background-color:  lightgreen;\n",
       "        }    #T_4ccbec94_c47f_11e9_838c_6d7c87f6fa87row0_col11 {\n",
       "            background-color:  lightgreen;\n",
       "        }    #T_4ccbec94_c47f_11e9_838c_6d7c87f6fa87row0_col12 {\n",
       "            background-color:  lightgreen;\n",
       "        }    #T_4ccbec94_c47f_11e9_838c_6d7c87f6fa87row0_col13 {\n",
       "            background-color:  lightgreen;\n",
       "        }    #T_4ccbec94_c47f_11e9_838c_6d7c87f6fa87row0_col14 {\n",
       "            background-color:  lightgreen;\n",
       "        }    #T_4ccbec94_c47f_11e9_838c_6d7c87f6fa87row0_col15 {\n",
       "            background-color:  lightgreen;\n",
       "        }    #T_4ccbec94_c47f_11e9_838c_6d7c87f6fa87row0_col16 {\n",
       "            background-color:  lightgreen;\n",
       "        }    #T_4ccbec94_c47f_11e9_838c_6d7c87f6fa87row1_col2 {\n",
       "            background-color:  lightgreen;\n",
       "        }    #T_4ccbec94_c47f_11e9_838c_6d7c87f6fa87row1_col3 {\n",
       "            background-color:  lightgreen;\n",
       "        }</style>  \n",
       "<table id=\"T_4ccbec94_c47f_11e9_838c_6d7c87f6fa87\" > \n",
       "<thead>    <tr> \n",
       "        <th class=\"blank level0\" ></th> \n",
       "        <th class=\"col_heading level0 col0\" >arnold_T50</th> \n",
       "        <th class=\"col_heading level0 col1\" >arnold_absorption</th> \n",
       "        <th class=\"col_heading level0 col2\" >arnold_enantioselectivity</th> \n",
       "        <th class=\"col_heading level0 col3\" >arnold_localization</th> \n",
       "        <th class=\"col_heading level0 col4\" colspan=9>fowler</th> \n",
       "        <th class=\"col_heading level0 col13\" >rocklin_ssm2</th> \n",
       "        <th class=\"col_heading level0 col14\" >rocklin_all_rds</th> \n",
       "        <th class=\"col_heading level0 col15\" colspan=2>rocklin_ssm2_nat_eng</th> \n",
       "    </tr>    <tr> \n",
       "        <th class=\"blank level1\" ></th> \n",
       "        <th class=\"col_heading level1 col0\" >T50</th> \n",
       "        <th class=\"col_heading level1 col1\" >peak</th> \n",
       "        <th class=\"col_heading level1 col2\" >e-value</th> \n",
       "        <th class=\"col_heading level1 col3\" >log_GFP</th> \n",
       "        <th class=\"col_heading level1 col4\" >TEM-1_variant_score</th> \n",
       "        <th class=\"col_heading level1 col5\" >E1_Ubiquitin</th> \n",
       "        <th class=\"col_heading level1 col6\" >gb1_variant_score</th> \n",
       "        <th class=\"col_heading level1 col7\" >hsp90_variant_score</th> \n",
       "        <th class=\"col_heading level1 col8\" >Kka2_variant_score</th> \n",
       "        <th class=\"col_heading level1 col9\" >Pab1_variant_score</th> \n",
       "        <th class=\"col_heading level1 col10\" >PSD95pdz3_variant_score</th> \n",
       "        <th class=\"col_heading level1 col11\" >Ubiquitin</th> \n",
       "        <th class=\"col_heading level1 col12\" >Yap65_variant_score</th> \n",
       "        <th class=\"col_heading level1 col13\" >full</th> \n",
       "        <th class=\"col_heading level1 col14\" >all_rds_stability</th> \n",
       "        <th class=\"col_heading level1 col15\" >natural</th> \n",
       "        <th class=\"col_heading level1 col16\" >engineered</th> \n",
       "    </tr></thead> \n",
       "<tbody>    <tr> \n",
       "        <th id=\"T_4ccbec94_c47f_11e9_838c_6d7c87f6fa87level0_row0\" class=\"row_heading level0 row0\" >all_1900</th> \n",
       "        <td id=\"T_4ccbec94_c47f_11e9_838c_6d7c87f6fa87row0_col0\" class=\"data row0 col0\" >15.8</td> \n",
       "        <td id=\"T_4ccbec94_c47f_11e9_838c_6d7c87f6fa87row0_col1\" class=\"data row0 col1\" >499</td> \n",
       "        <td id=\"T_4ccbec94_c47f_11e9_838c_6d7c87f6fa87row0_col2\" class=\"data row0 col2\" >189</td> \n",
       "        <td id=\"T_4ccbec94_c47f_11e9_838c_6d7c87f6fa87row0_col3\" class=\"data row0 col3\" >1.25</td> \n",
       "        <td id=\"T_4ccbec94_c47f_11e9_838c_6d7c87f6fa87row0_col4\" class=\"data row0 col4\" >0.0545</td> \n",
       "        <td id=\"T_4ccbec94_c47f_11e9_838c_6d7c87f6fa87row0_col5\" class=\"data row0 col5\" >0.0421</td> \n",
       "        <td id=\"T_4ccbec94_c47f_11e9_838c_6d7c87f6fa87row0_col6\" class=\"data row0 col6\" >0.0233</td> \n",
       "        <td id=\"T_4ccbec94_c47f_11e9_838c_6d7c87f6fa87row0_col7\" class=\"data row0 col7\" >0.0258</td> \n",
       "        <td id=\"T_4ccbec94_c47f_11e9_838c_6d7c87f6fa87row0_col8\" class=\"data row0 col8\" >0.11</td> \n",
       "        <td id=\"T_4ccbec94_c47f_11e9_838c_6d7c87f6fa87row0_col9\" class=\"data row0 col9\" >0.0265</td> \n",
       "        <td id=\"T_4ccbec94_c47f_11e9_838c_6d7c87f6fa87row0_col10\" class=\"data row0 col10\" >0.0208</td> \n",
       "        <td id=\"T_4ccbec94_c47f_11e9_838c_6d7c87f6fa87row0_col11\" class=\"data row0 col11\" >0.0323</td> \n",
       "        <td id=\"T_4ccbec94_c47f_11e9_838c_6d7c87f6fa87row0_col12\" class=\"data row0 col12\" >0.0415</td> \n",
       "        <td id=\"T_4ccbec94_c47f_11e9_838c_6d7c87f6fa87row0_col13\" class=\"data row0 col13\" >0.0304</td> \n",
       "        <td id=\"T_4ccbec94_c47f_11e9_838c_6d7c87f6fa87row0_col14\" class=\"data row0 col14\" >0.179</td> \n",
       "        <td id=\"T_4ccbec94_c47f_11e9_838c_6d7c87f6fa87row0_col15\" class=\"data row0 col15\" >0.0342</td> \n",
       "        <td id=\"T_4ccbec94_c47f_11e9_838c_6d7c87f6fa87row0_col16\" class=\"data row0 col16\" >0.0255</td> \n",
       "    </tr>    <tr> \n",
       "        <th id=\"T_4ccbec94_c47f_11e9_838c_6d7c87f6fa87level0_row1\" class=\"row_heading level0 row1\" >best_other_rep</th> \n",
       "        <td id=\"T_4ccbec94_c47f_11e9_838c_6d7c87f6fa87row1_col0\" class=\"data row1 col0\" >21.7</td> \n",
       "        <td id=\"T_4ccbec94_c47f_11e9_838c_6d7c87f6fa87row1_col1\" class=\"data row1 col1\" >571</td> \n",
       "        <td id=\"T_4ccbec94_c47f_11e9_838c_6d7c87f6fa87row1_col2\" class=\"data row1 col2\" >93.2</td> \n",
       "        <td id=\"T_4ccbec94_c47f_11e9_838c_6d7c87f6fa87row1_col3\" class=\"data row1 col3\" >0.912</td> \n",
       "        <td id=\"T_4ccbec94_c47f_11e9_838c_6d7c87f6fa87row1_col4\" class=\"data row1 col4\" >0.074</td> \n",
       "        <td id=\"T_4ccbec94_c47f_11e9_838c_6d7c87f6fa87row1_col5\" class=\"data row1 col5\" >0.052</td> \n",
       "        <td id=\"T_4ccbec94_c47f_11e9_838c_6d7c87f6fa87row1_col6\" class=\"data row1 col6\" >0.054</td> \n",
       "        <td id=\"T_4ccbec94_c47f_11e9_838c_6d7c87f6fa87row1_col7\" class=\"data row1 col7\" >0.0344</td> \n",
       "        <td id=\"T_4ccbec94_c47f_11e9_838c_6d7c87f6fa87row1_col8\" class=\"data row1 col8\" >0.115</td> \n",
       "        <td id=\"T_4ccbec94_c47f_11e9_838c_6d7c87f6fa87row1_col9\" class=\"data row1 col9\" >0.0435</td> \n",
       "        <td id=\"T_4ccbec94_c47f_11e9_838c_6d7c87f6fa87row1_col10\" class=\"data row1 col10\" >0.041</td> \n",
       "        <td id=\"T_4ccbec94_c47f_11e9_838c_6d7c87f6fa87row1_col11\" class=\"data row1 col11\" >0.0515</td> \n",
       "        <td id=\"T_4ccbec94_c47f_11e9_838c_6d7c87f6fa87row1_col12\" class=\"data row1 col12\" >0.0662</td> \n",
       "        <td id=\"T_4ccbec94_c47f_11e9_838c_6d7c87f6fa87row1_col13\" class=\"data row1 col13\" >0.0398</td> \n",
       "        <td id=\"T_4ccbec94_c47f_11e9_838c_6d7c87f6fa87row1_col14\" class=\"data row1 col14\" >0.201</td> \n",
       "        <td id=\"T_4ccbec94_c47f_11e9_838c_6d7c87f6fa87row1_col15\" class=\"data row1 col15\" >0.0532</td> \n",
       "        <td id=\"T_4ccbec94_c47f_11e9_838c_6d7c87f6fa87row1_col16\" class=\"data row1 col16\" >0.0322</td> \n",
       "    </tr>    <tr> \n",
       "        <th id=\"T_4ccbec94_c47f_11e9_838c_6d7c87f6fa87level0_row2\" class=\"row_heading level0 row2\" >RGN</th> \n",
       "        <td id=\"T_4ccbec94_c47f_11e9_838c_6d7c87f6fa87row2_col0\" class=\"data row2 col0\" >24.4</td> \n",
       "        <td id=\"T_4ccbec94_c47f_11e9_838c_6d7c87f6fa87row2_col1\" class=\"data row2 col1\" >2.79e+03</td> \n",
       "        <td id=\"T_4ccbec94_c47f_11e9_838c_6d7c87f6fa87row2_col2\" class=\"data row2 col2\" >1.2e+03</td> \n",
       "        <td id=\"T_4ccbec94_c47f_11e9_838c_6d7c87f6fa87row2_col3\" class=\"data row2 col3\" >1.61</td> \n",
       "        <td id=\"T_4ccbec94_c47f_11e9_838c_6d7c87f6fa87row2_col4\" class=\"data row2 col4\" >0.0904</td> \n",
       "        <td id=\"T_4ccbec94_c47f_11e9_838c_6d7c87f6fa87row2_col5\" class=\"data row2 col5\" >0.054</td> \n",
       "        <td id=\"T_4ccbec94_c47f_11e9_838c_6d7c87f6fa87row2_col6\" class=\"data row2 col6\" >0.0977</td> \n",
       "        <td id=\"T_4ccbec94_c47f_11e9_838c_6d7c87f6fa87row2_col7\" class=\"data row2 col7\" >0.0579</td> \n",
       "        <td id=\"T_4ccbec94_c47f_11e9_838c_6d7c87f6fa87row2_col8\" class=\"data row2 col8\" >0.14</td> \n",
       "        <td id=\"T_4ccbec94_c47f_11e9_838c_6d7c87f6fa87row2_col9\" class=\"data row2 col9\" >0.0596</td> \n",
       "        <td id=\"T_4ccbec94_c47f_11e9_838c_6d7c87f6fa87row2_col10\" class=\"data row2 col10\" >0.0438</td> \n",
       "        <td id=\"T_4ccbec94_c47f_11e9_838c_6d7c87f6fa87row2_col11\" class=\"data row2 col11\" >0.0601</td> \n",
       "        <td id=\"T_4ccbec94_c47f_11e9_838c_6d7c87f6fa87row2_col12\" class=\"data row2 col12\" >0.0639</td> \n",
       "        <td id=\"T_4ccbec94_c47f_11e9_838c_6d7c87f6fa87row2_col13\" class=\"data row2 col13\" >0.0338</td> \n",
       "        <td id=\"T_4ccbec94_c47f_11e9_838c_6d7c87f6fa87row2_col14\" class=\"data row2 col14\" >0.189</td> \n",
       "        <td id=\"T_4ccbec94_c47f_11e9_838c_6d7c87f6fa87row2_col15\" class=\"data row2 col15\" >0.0449</td> \n",
       "        <td id=\"T_4ccbec94_c47f_11e9_838c_6d7c87f6fa87row2_col16\" class=\"data row2 col16\" >0.0277</td> \n",
       "    </tr>    <tr> \n",
       "        <th id=\"T_4ccbec94_c47f_11e9_838c_6d7c87f6fa87level0_row3\" class=\"row_heading level0 row3\" >best_arnold_rep</th> \n",
       "        <td id=\"T_4ccbec94_c47f_11e9_838c_6d7c87f6fa87row3_col0\" class=\"data row3 col0\" >18.1</td> \n",
       "        <td id=\"T_4ccbec94_c47f_11e9_838c_6d7c87f6fa87row3_col1\" class=\"data row3 col1\" >530</td> \n",
       "        <td id=\"T_4ccbec94_c47f_11e9_838c_6d7c87f6fa87row3_col2\" class=\"data row3 col2\" >95.7</td> \n",
       "        <td id=\"T_4ccbec94_c47f_11e9_838c_6d7c87f6fa87row3_col3\" class=\"data row3 col3\" >1</td> \n",
       "        <td id=\"T_4ccbec94_c47f_11e9_838c_6d7c87f6fa87row3_col4\" class=\"data row3 col4\" >0.0881</td> \n",
       "        <td id=\"T_4ccbec94_c47f_11e9_838c_6d7c87f6fa87row3_col5\" class=\"data row3 col5\" >0.0625</td> \n",
       "        <td id=\"T_4ccbec94_c47f_11e9_838c_6d7c87f6fa87row3_col6\" class=\"data row3 col6\" >0.0724</td> \n",
       "        <td id=\"T_4ccbec94_c47f_11e9_838c_6d7c87f6fa87row3_col7\" class=\"data row3 col7\" >0.0579</td> \n",
       "        <td id=\"T_4ccbec94_c47f_11e9_838c_6d7c87f6fa87row3_col8\" class=\"data row3 col8\" >0.132</td> \n",
       "        <td id=\"T_4ccbec94_c47f_11e9_838c_6d7c87f6fa87row3_col9\" class=\"data row3 col9\" >0.0495</td> \n",
       "        <td id=\"T_4ccbec94_c47f_11e9_838c_6d7c87f6fa87row3_col10\" class=\"data row3 col10\" >0.046</td> \n",
       "        <td id=\"T_4ccbec94_c47f_11e9_838c_6d7c87f6fa87row3_col11\" class=\"data row3 col11\" >0.064</td> \n",
       "        <td id=\"T_4ccbec94_c47f_11e9_838c_6d7c87f6fa87row3_col12\" class=\"data row3 col12\" >0.0772</td> \n",
       "        <td id=\"T_4ccbec94_c47f_11e9_838c_6d7c87f6fa87row3_col13\" class=\"data row3 col13\" >0.0473</td> \n",
       "        <td id=\"T_4ccbec94_c47f_11e9_838c_6d7c87f6fa87row3_col14\" class=\"data row3 col14\" >0.258</td> \n",
       "        <td id=\"T_4ccbec94_c47f_11e9_838c_6d7c87f6fa87row3_col15\" class=\"data row3 col15\" >0.0711</td> \n",
       "        <td id=\"T_4ccbec94_c47f_11e9_838c_6d7c87f6fa87row3_col16\" class=\"data row3 col16\" >0.0388</td> \n",
       "    </tr></tbody> \n",
       "</table> "
      ],
      "text/plain": [
       "<pandas.io.formats.style.Styler at 0x7f76a6441748>"
      ]
     },
     "execution_count": 15,
     "metadata": {},
     "output_type": "execute_result"
    }
   ],
   "source": [
    "final_table.style.apply(highlight_min, axis=0).set_precision(3)"
   ]
  },
  {
   "cell_type": "markdown",
   "metadata": {},
   "source": [
    "# Significance analysis for Supp. Tables S4-S5 and Fig3e"
   ]
  },
  {
   "cell_type": "code",
   "execution_count": 16,
   "metadata": {},
   "outputs": [
    {
     "name": "stdout",
     "output_type": "stream",
     "text": [
      "arnold_T50 T50\n",
      "Ttest_indResult(statistic=-1.763353543847048, pvalue=0.083255146358347132)\n",
      "arnold_absorption peak\n",
      "Ttest_indResult(statistic=-0.94989891318758479, pvalue=0.34625351177134811)\n",
      "arnold_enantioselectivity e-value\n",
      "Ttest_indResult(statistic=7.9312405929748042, pvalue=1.6239315823765277e-09)\n",
      "arnold_localization log_GFP\n",
      "Ttest_indResult(statistic=4.3883279074996544, pvalue=5.1563826122845527e-05)\n"
     ]
    }
   ],
   "source": [
    "from scipy.stats import ttest_ind_from_stats\n",
    "\n",
    "size = 10000\n",
    "\n",
    "for d,s in final_table_std.columns[:4]:\n",
    "    print(d,s)\n",
    "    \n",
    "    pvalue = ttest_ind_from_stats(\n",
    "        mean1 = final_table[d][s][['all_1900',]].sort_values(ascending=ascending).iloc[0],\n",
    "        std1 = final_table_std[d][s][['all_1900']].sort_values(ascending=ascending).iloc[0],\n",
    "        nobs1=30,\n",
    "        mean2 = final_table[d][s][['best_other_rep','best_arnold_rep', 'RGN']].sort_values(ascending=ascending).iloc[0],\n",
    "        std2 = final_table_std[d][s][['best_other_rep','best_arnold_rep', 'RGN']].sort_values(ascending=ascending).iloc[0],\n",
    "        nobs2=30,\n",
    "        equal_var = False\n",
    "    )\n",
    "    print(pvalue)"
   ]
  },
  {
   "cell_type": "code",
   "execution_count": 17,
   "metadata": {},
   "outputs": [
    {
     "name": "stdout",
     "output_type": "stream",
     "text": [
      "arnold_T50 T50\n",
      "Ttest_indResult(statistic=4.3675268718598632, pvalue=5.5297243195609222e-05)\n",
      "arnold_absorption peak\n",
      "Ttest_indResult(statistic=1.8681482041807653, pvalue=0.067659811737845174)\n",
      "arnold_enantioselectivity e-value\n",
      "Ttest_indResult(statistic=-0.38496813169338073, pvalue=0.70169417563824488)\n",
      "arnold_localization log_GFP\n",
      "Ttest_indResult(statistic=-1.2364823491530763, pvalue=0.22139053238564932)\n"
     ]
    }
   ],
   "source": [
    "from scipy.stats import ttest_ind_from_stats\n",
    "\n",
    "size = 10000\n",
    "\n",
    "for d,s in final_table_std.columns[:4]:\n",
    "    print(d,s)\n",
    "    \n",
    "    pvalue = ttest_ind_from_stats(\n",
    "        mean1 = final_table[d][s][['best_other_rep',]].sort_values(ascending=ascending).iloc[0],\n",
    "        std1 = final_table_std[d][s][['best_other_rep']].sort_values(ascending=ascending).iloc[0],\n",
    "        nobs1=30,\n",
    "        mean2 = final_table[d][s][['all_1900','best_arnold_rep', 'RGN']].sort_values(ascending=ascending).iloc[0],\n",
    "        std2 = final_table_std[d][s][['all_1900','best_arnold_rep', 'RGN']].sort_values(ascending=ascending).iloc[0],\n",
    "        nobs2=30,\n",
    "        equal_var = False\n",
    "    )\n",
    "    print(pvalue)"
   ]
  },
  {
   "cell_type": "code",
   "execution_count": 18,
   "metadata": {},
   "outputs": [
    {
     "name": "stdout",
     "output_type": "stream",
     "text": [
      "arnold_T50 T50\n",
      "Ttest_indResult(statistic=2.4591360929722881, pvalue=0.016936974406294904)\n",
      "arnold_absorption peak\n",
      "Ttest_indResult(statistic=0.98937580841243922, pvalue=0.32681960057634718)\n",
      "arnold_enantioselectivity e-value\n",
      "Ttest_indResult(statistic=-0.38496813169338073, pvalue=0.70169417563824488)\n",
      "arnold_localization log_GFP\n",
      "Ttest_indResult(statistic=-1.2364823491530763, pvalue=0.22139053238564932)\n"
     ]
    }
   ],
   "source": [
    "from scipy.stats import ttest_ind_from_stats\n",
    "\n",
    "size = 10000\n",
    "\n",
    "for d,s in final_table_std.columns[:4]:\n",
    "    print(d,s)\n",
    "    \n",
    "    pvalue = ttest_ind_from_stats(\n",
    "        mean1 = final_table[d][s][['best_other_rep',]].sort_values(ascending=ascending).iloc[0],\n",
    "        std1 = final_table_std[d][s][['best_other_rep']].sort_values(ascending=ascending).iloc[0],\n",
    "        nobs1=30,\n",
    "        mean2 = final_table[d][s][['best_arnold_rep']].sort_values(ascending=ascending).iloc[0],\n",
    "        std2 = final_table_std[d][s][['best_arnold_rep']].sort_values(ascending=ascending).iloc[0],\n",
    "        nobs2=30,\n",
    "        equal_var = False\n",
    "    )\n",
    "    print(pvalue)"
   ]
  },
  {
   "cell_type": "code",
   "execution_count": 19,
   "metadata": {},
   "outputs": [
    {
     "name": "stdout",
     "output_type": "stream",
     "text": [
      "fowler TEM-1_variant_score\n",
      "Ttest_indResult(statistic=-18.93296349334716, pvalue=2.4999581851452151e-26)\n",
      "fowler E1_Ubiquitin\n",
      "Ttest_indResult(statistic=-4.1695316346561269, pvalue=0.00010443509844281987)\n",
      "fowler gb1_variant_score\n",
      "Ttest_indResult(statistic=-18.639872479448659, pvalue=1.0196543225946308e-20)\n",
      "fowler hsp90_variant_score\n",
      "Ttest_indResult(statistic=-10.153045363358842, pvalue=2.1856376540454914e-14)\n",
      "fowler Kka2_variant_score\n",
      "Ttest_indResult(statistic=-2.7239702226454909, pvalue=0.0085095066149036055)\n",
      "fowler Pab1_variant_score\n",
      "Ttest_indResult(statistic=-8.0416218133194892, pvalue=9.2406829979899097e-11)\n",
      "fowler PSD95pdz3_variant_score\n",
      "Ttest_indResult(statistic=-13.687886024565493, pvalue=7.1521778087172e-19)\n",
      "fowler Ubiquitin\n",
      "Ttest_indResult(statistic=-13.873985414853371, pvalue=1.3848691885681936e-19)\n",
      "fowler Yap65_variant_score\n",
      "Ttest_indResult(statistic=-6.8650604728189641, pvalue=5.1410583022163402e-09)\n",
      "rocklin_ssm2 full\n",
      "Ttest_indResult(statistic=-7.7721877373638284, pvalue=1.4876511965758338e-10)\n",
      "rocklin_all_rds all_rds_stability\n",
      "Ttest_indResult(statistic=-9.4281111846935541, pvalue=2.8548647801875466e-13)\n",
      "rocklin_ssm2_nat_eng natural\n",
      "Ttest_indResult(statistic=-6.7001446754877083, pvalue=1.0414646210291762e-08)\n",
      "rocklin_ssm2_nat_eng engineered\n",
      "Ttest_indResult(statistic=-5.0987193968313358, pvalue=3.9830704654997333e-06)\n"
     ]
    }
   ],
   "source": [
    "size = 10000\n",
    "\n",
    "for d,s in final_table_std.columns[4:]:\n",
    "    print(d,s)\n",
    "    \n",
    "    pvalue = ttest_ind_from_stats(\n",
    "        mean1 = final_table[d][s][['all_1900',]].sort_values(ascending=ascending).iloc[0],\n",
    "        std1 = final_table_std[d][s][['all_1900']].sort_values(ascending=ascending).iloc[0],\n",
    "        nobs1=30,\n",
    "        mean2 = final_table[d][s][['best_other_rep','best_arnold_rep', 'RGN']].sort_values(ascending=ascending).iloc[0],\n",
    "        std2 = final_table_std[d][s][['best_other_rep','best_arnold_rep', 'RGN']].sort_values(ascending=ascending).iloc[0],\n",
    "        nobs2=30,\n",
    "        equal_var = False\n",
    "    )\n",
    "    print(pvalue)"
   ]
  },
  {
   "cell_type": "markdown",
   "metadata": {},
   "source": [
    "# Fig3e Quantitative function prediction"
   ]
  },
  {
   "cell_type": "code",
   "execution_count": 20,
   "metadata": {},
   "outputs": [
    {
     "data": {
      "text/html": [
       "<style>.container { width:75% !important; }</style>"
      ],
      "text/plain": [
       "<IPython.core.display.HTML object>"
      ]
     },
     "metadata": {},
     "output_type": "display_data"
    }
   ],
   "source": [
    "from IPython.core.display import display, HTML\n",
    "display(HTML(\"<style>.container { width:75% !important; }</style>\"))"
   ]
  },
  {
   "cell_type": "code",
   "execution_count": 21,
   "metadata": {},
   "outputs": [
    {
     "data": {
      "text/html": [
       "<style  type=\"text/css\" >\n",
       "    #T_5427990c_c47f_11e9_838c_6d7c87f6fa87 th {\n",
       "          max-width: 100px;\n",
       "          text-align: center;\n",
       "    }    #T_5427990c_c47f_11e9_838c_6d7c87f6fa87 td {\n",
       "          text-align: center;\n",
       "    }    #T_5427990c_c47f_11e9_838c_6d7c87f6fa87row0_col0 {\n",
       "            background-color:  lightgreen;\n",
       "        }    #T_5427990c_c47f_11e9_838c_6d7c87f6fa87row0_col1 {\n",
       "            background-color:  lightgreen;\n",
       "        }    #T_5427990c_c47f_11e9_838c_6d7c87f6fa87row0_col2 {\n",
       "            background-color:  lightgreen;\n",
       "        }    #T_5427990c_c47f_11e9_838c_6d7c87f6fa87row0_col3 {\n",
       "            background-color:  lightgreen;\n",
       "        }    #T_5427990c_c47f_11e9_838c_6d7c87f6fa87row0_col4 {\n",
       "            background-color:  lightgreen;\n",
       "        }    #T_5427990c_c47f_11e9_838c_6d7c87f6fa87row0_col5 {\n",
       "            background-color:  lightgreen;\n",
       "        }    #T_5427990c_c47f_11e9_838c_6d7c87f6fa87row0_col6 {\n",
       "            background-color:  lightgreen;\n",
       "        }    #T_5427990c_c47f_11e9_838c_6d7c87f6fa87row0_col7 {\n",
       "            background-color:  lightgreen;\n",
       "        }    #T_5427990c_c47f_11e9_838c_6d7c87f6fa87row0_col8 {\n",
       "            background-color:  lightgreen;\n",
       "        }</style>  \n",
       "<table id=\"T_5427990c_c47f_11e9_838c_6d7c87f6fa87\" > \n",
       "<thead>    <tr> \n",
       "        <th class=\"blank level0\" ></th> \n",
       "        <th class=\"col_heading level0 col0\" >TEM1</th> \n",
       "        <th class=\"col_heading level0 col1\" >E1 Ubiquitin</th> \n",
       "        <th class=\"col_heading level0 col2\" >Gb1</th> \n",
       "        <th class=\"col_heading level0 col3\" >HSP90</th> \n",
       "        <th class=\"col_heading level0 col4\" >Kka2</th> \n",
       "        <th class=\"col_heading level0 col5\" >Pab1</th> \n",
       "        <th class=\"col_heading level0 col6\" >PSD95pdz3</th> \n",
       "        <th class=\"col_heading level0 col7\" >Ubiquitin</th> \n",
       "        <th class=\"col_heading level0 col8\" >Yap65</th> \n",
       "    </tr></thead> \n",
       "<tbody>    <tr> \n",
       "        <th id=\"T_5427990c_c47f_11e9_838c_6d7c87f6fa87level0_row0\" class=\"row_heading level0 row0\" >UniRep Fusion</th> \n",
       "        <td id=\"T_5427990c_c47f_11e9_838c_6d7c87f6fa87row0_col0\" class=\"data row0 col0\" >0.0545</td> \n",
       "        <td id=\"T_5427990c_c47f_11e9_838c_6d7c87f6fa87row0_col1\" class=\"data row0 col1\" >0.0421</td> \n",
       "        <td id=\"T_5427990c_c47f_11e9_838c_6d7c87f6fa87row0_col2\" class=\"data row0 col2\" >0.0233</td> \n",
       "        <td id=\"T_5427990c_c47f_11e9_838c_6d7c87f6fa87row0_col3\" class=\"data row0 col3\" >0.0258</td> \n",
       "        <td id=\"T_5427990c_c47f_11e9_838c_6d7c87f6fa87row0_col4\" class=\"data row0 col4\" >0.11</td> \n",
       "        <td id=\"T_5427990c_c47f_11e9_838c_6d7c87f6fa87row0_col5\" class=\"data row0 col5\" >0.0265</td> \n",
       "        <td id=\"T_5427990c_c47f_11e9_838c_6d7c87f6fa87row0_col6\" class=\"data row0 col6\" >0.0208</td> \n",
       "        <td id=\"T_5427990c_c47f_11e9_838c_6d7c87f6fa87row0_col7\" class=\"data row0 col7\" >0.0323</td> \n",
       "        <td id=\"T_5427990c_c47f_11e9_838c_6d7c87f6fa87row0_col8\" class=\"data row0 col8\" >0.0415</td> \n",
       "    </tr>    <tr> \n",
       "        <th id=\"T_5427990c_c47f_11e9_838c_6d7c87f6fa87level0_row1\" class=\"row_heading level0 row1\" >Our Best Baseline</th> \n",
       "        <td id=\"T_5427990c_c47f_11e9_838c_6d7c87f6fa87row1_col0\" class=\"data row1 col0\" >0.074</td> \n",
       "        <td id=\"T_5427990c_c47f_11e9_838c_6d7c87f6fa87row1_col1\" class=\"data row1 col1\" >0.052</td> \n",
       "        <td id=\"T_5427990c_c47f_11e9_838c_6d7c87f6fa87row1_col2\" class=\"data row1 col2\" >0.054</td> \n",
       "        <td id=\"T_5427990c_c47f_11e9_838c_6d7c87f6fa87row1_col3\" class=\"data row1 col3\" >0.0344</td> \n",
       "        <td id=\"T_5427990c_c47f_11e9_838c_6d7c87f6fa87row1_col4\" class=\"data row1 col4\" >0.115</td> \n",
       "        <td id=\"T_5427990c_c47f_11e9_838c_6d7c87f6fa87row1_col5\" class=\"data row1 col5\" >0.0435</td> \n",
       "        <td id=\"T_5427990c_c47f_11e9_838c_6d7c87f6fa87row1_col6\" class=\"data row1 col6\" >0.041</td> \n",
       "        <td id=\"T_5427990c_c47f_11e9_838c_6d7c87f6fa87row1_col7\" class=\"data row1 col7\" >0.0515</td> \n",
       "        <td id=\"T_5427990c_c47f_11e9_838c_6d7c87f6fa87row1_col8\" class=\"data row1 col8\" >0.0662</td> \n",
       "    </tr>    <tr> \n",
       "        <th id=\"T_5427990c_c47f_11e9_838c_6d7c87f6fa87level0_row2\" class=\"row_heading level0 row2\" >RGN</th> \n",
       "        <td id=\"T_5427990c_c47f_11e9_838c_6d7c87f6fa87row2_col0\" class=\"data row2 col0\" >0.0904</td> \n",
       "        <td id=\"T_5427990c_c47f_11e9_838c_6d7c87f6fa87row2_col1\" class=\"data row2 col1\" >0.054</td> \n",
       "        <td id=\"T_5427990c_c47f_11e9_838c_6d7c87f6fa87row2_col2\" class=\"data row2 col2\" >0.0977</td> \n",
       "        <td id=\"T_5427990c_c47f_11e9_838c_6d7c87f6fa87row2_col3\" class=\"data row2 col3\" >0.0579</td> \n",
       "        <td id=\"T_5427990c_c47f_11e9_838c_6d7c87f6fa87row2_col4\" class=\"data row2 col4\" >0.14</td> \n",
       "        <td id=\"T_5427990c_c47f_11e9_838c_6d7c87f6fa87row2_col5\" class=\"data row2 col5\" >0.0596</td> \n",
       "        <td id=\"T_5427990c_c47f_11e9_838c_6d7c87f6fa87row2_col6\" class=\"data row2 col6\" >0.0438</td> \n",
       "        <td id=\"T_5427990c_c47f_11e9_838c_6d7c87f6fa87row2_col7\" class=\"data row2 col7\" >0.0601</td> \n",
       "        <td id=\"T_5427990c_c47f_11e9_838c_6d7c87f6fa87row2_col8\" class=\"data row2 col8\" >0.0639</td> \n",
       "    </tr>    <tr> \n",
       "        <th id=\"T_5427990c_c47f_11e9_838c_6d7c87f6fa87level0_row3\" class=\"row_heading level0 row3\" >Best Doc2Vec</th> \n",
       "        <td id=\"T_5427990c_c47f_11e9_838c_6d7c87f6fa87row3_col0\" class=\"data row3 col0\" >0.0881</td> \n",
       "        <td id=\"T_5427990c_c47f_11e9_838c_6d7c87f6fa87row3_col1\" class=\"data row3 col1\" >0.0625</td> \n",
       "        <td id=\"T_5427990c_c47f_11e9_838c_6d7c87f6fa87row3_col2\" class=\"data row3 col2\" >0.0724</td> \n",
       "        <td id=\"T_5427990c_c47f_11e9_838c_6d7c87f6fa87row3_col3\" class=\"data row3 col3\" >0.0579</td> \n",
       "        <td id=\"T_5427990c_c47f_11e9_838c_6d7c87f6fa87row3_col4\" class=\"data row3 col4\" >0.132</td> \n",
       "        <td id=\"T_5427990c_c47f_11e9_838c_6d7c87f6fa87row3_col5\" class=\"data row3 col5\" >0.0495</td> \n",
       "        <td id=\"T_5427990c_c47f_11e9_838c_6d7c87f6fa87row3_col6\" class=\"data row3 col6\" >0.046</td> \n",
       "        <td id=\"T_5427990c_c47f_11e9_838c_6d7c87f6fa87row3_col7\" class=\"data row3 col7\" >0.064</td> \n",
       "        <td id=\"T_5427990c_c47f_11e9_838c_6d7c87f6fa87row3_col8\" class=\"data row3 col8\" >0.0772</td> \n",
       "    </tr></tbody> \n",
       "</table> "
      ],
      "text/plain": [
       "<pandas.io.formats.style.Styler at 0x7f76a603b4a8>"
      ]
     },
     "execution_count": 21,
     "metadata": {},
     "output_type": "execute_result"
    }
   ],
   "source": [
    "intermediate = final_table.loc[:,['fowler']].copy()\n",
    "\n",
    "intermediate.index = [plot_style_utils.main_text_rep_names[n] for n in intermediate.index]\n",
    "\n",
    "#intermediate.columns = [task_names[n] for n in intermediate.columns.levels[1][intermediate.columns.labels[1]]]\n",
    "intermediate.columns = ['TEM1','E1 Ubiquitin','Gb1','HSP90','Kka2','Pab1','PSD95pdz3','Ubiquitin','Yap65']\n",
    "\n",
    "functions = ['Hydrolysis','E1 \\nactivation','IgG-binding','Chaperone',\n",
    "             'Kinase\\nactivity', 'Poly-A\\nbinding', 'Kinase\\nbinding','Partner\\nbinding', 'Binding\\nsubstrate']\n",
    "\n",
    "intermediate.style.apply(highlight_min, axis=0).set_precision(3).set_table_styles(\n",
    "        [\n",
    "            dict(selector=\"th\",props=[('max-width', '100px'), ('text-align','center')]),\n",
    "            dict(selector=\"td\",props=[('text-align','center')])\n",
    "        ]\n",
    "    )"
   ]
  },
  {
   "cell_type": "code",
   "execution_count": 22,
   "metadata": {},
   "outputs": [],
   "source": [
    "palette = plot_style_utils.set_pub_plot_context(colors='categorical', context=\"poster\")"
   ]
  },
  {
   "cell_type": "code",
   "execution_count": 29,
   "metadata": {},
   "outputs": [
    {
     "data": {
      "text/plain": [
       "(0, 0.148)"
      ]
     },
     "execution_count": 29,
     "metadata": {},
     "output_type": "execute_result"
    },
    {
     "data": {
      "image/png": "[encoded data removed]",
      "text/plain": [
       "<Figure size 682.56x288 with 1 Axes>"
      ]
     },
     "metadata": {},
     "output_type": "display_data"
    }
   ],
   "source": [
    "fig = plt.figure(figsize=(4.74*2, 2*2))\n",
    "ax = fig.subplots()\n",
    "intermediate.T.plot(marker='o',linewidth=0, ax=ax, legend=None)\n",
    "#plt.legend(loc='center left', bbox_to_anchor=(1, 0.5))\n",
    "plt.xticks(range(9),intermediate.columns, rotation=0, fontsize=12)\n",
    "plt.yticks(fontsize=12)\n",
    "plt.ylabel('Mean Squared Error', fontsize=14)\n",
    "plt.ylim(0,0.148)\n",
    "#plt.xticks(range(9),functions, rotation=0)\n",
    "\n",
    "#plt.title(\"Mean Squared Error - Function Prediction\")\n",
    "\n",
    "#plot_style_utils.save_for_pub(fig=fig, path=\"./figures/functional_datasets_names\", dpi=250)"
   ]
  },
  {
   "cell_type": "code",
   "execution_count": 30,
   "metadata": {},
   "outputs": [
    {
     "data": {
      "image/png": "[encoded data removed]",
      "text/plain": [
       "<Figure size 682.56x288 with 1 Axes>"
      ]
     },
     "metadata": {},
     "output_type": "display_data"
    }
   ],
   "source": [
    "fig = plt.figure(figsize=(4.74*2, 2*2))\n",
    "ax = fig.subplots()\n",
    "intermediate.T.plot(marker='o',linewidth=0, ax=ax, legend=None)\n",
    "#plt.legend(loc='center left', bbox_to_anchor=(1, 0.5))\n",
    "#plt.xticks(range(9),intermediate.columns, rotation=0, fontsize=12)\n",
    "plt.xticks(range(9),functions, rotation=0, fontsize=12)\n",
    "plt.yticks(fontsize=12)\n",
    "plt.ylim(0,0.148)\n",
    "\n",
    "#plt.title(\"Mean Squared Error - Function Prediction\")\n",
    "\n",
    "plot_style_utils.save_for_pub(fig=fig, path=\"./functional_datasets\", dpi=250)"
   ]
  },
  {
   "cell_type": "markdown",
   "metadata": {},
   "source": [
    "# how different are the wildtype sequences?"
   ]
  },
  {
   "cell_type": "code",
   "execution_count": 31,
   "metadata": {},
   "outputs": [],
   "source": [
    "fowler_seqs = pd.Series({'Kka2': 'MIEQDGLHAGSPAAWVERLFGYDWAQQTIGCSDAAVFRLSAQGRPVLFVKTDLSGALNELQDEAARLSWLATTGVPCAAVLDVVTEAGRDWLLLGEVPGQDLLSSHLAPAEKVSIMADAMRRLHTLDPATCPFDHQAKHRIERARTRMEAGLVDQDDLDEEHQGLAPAELFARLKARMPDGEDLVVTHGDACLPNIMVENGRFSGFIDCGRLGVADRYQDIALATRDIAEELGGEWADRFLVLYGIAAPDSQRIAFYRLLDEFF',\n",
    " 'PSD95pdz3': 'MDCLCIVTTKKYRYQDEDTPPLEHSPAHLPNQANSPPVIVNTDTLEAPGYELQVNGTEGEMEYEEITLERGNSGLGFSIAGGTDNPHIGDDPSIFITKIIPGGAAAQDGRLRVNDSILFVNEVDVREVTHSAAVEALKEAGSIVRLYVMRRKPPAEKVMEIKLIKGPKGLGFSIAGGVGNQHIPGDNSIYVTKIIEGGAAHKDGRLQIGDKILAVNSVGLEDVMHEDAVAALKNTYDVVYLKVAKPSNAYLSDSYAPPDITTSYSQHLDNEISHSSYLGTDYPTAMTPTSPRRYSPVAKDLLGEEDIPREPRRIVIHRGSTGLGFNIVGGEDGEGIFISFILAGGPADLSGELRKGDQILSVNGVDLRNASHEQAAIALKNAGQTVTIIAQYKPEEYSRFEAKIHDLREQLMNSSLGSGTASLRSNPKRGFYIRALFDYDKTKDCGFLSQALSFRFGDVLHVIDAGDEEWWQARRVHSDSETDDIGFIPSKRRVERREWSRLKAKDWGSSSGSQGREDSVLSYETVTQMEVHYARPIIILGPTKDRANDDLLSEFPDKFGSCVPHTTRPKREYEIDGRDYHFVSSREKMEKDIQAHKFIEAGQYNSHLYGTSVQSVREVAEQGKHCILDVSANAVRRLQAAHLHPIAIFIRPRSLENVLEINKRITEEQARKAFDRATKLEQEFTECFSAIVEGDSFEEIYHKVKRVIEDLSGPYIWVPARERL',\n",
    " 'Pab1': 'MADITDKTAEQLENLNIQDDQKQAATGSESQSVENSSASLYVGDLEPSVSEAHLYDIFSPIGSVSSIRVCRDAITKTSLGYAYVNFNDHEAGRKAIEQLNYTPIKGRLCRIMWSQRDPSLRKKGSGNIFIKNLHPDIDNKALYDTFSVFGDILSSKIATDENGKSKGFGFVHFEEEGAAKEAIDALNGMLLNGQEIYVAPHLSRKERDSQLEETKAHYTNLYVKNINSETTDEQFQELFAKFGPIVSASLEKDADGKLKGFGFVNYEKHEDAVKAVEALNDSELNGEKLYVGRAQKKNERMHVLKKQYEAYRLEKMAKYQGVNLFVKNLDDSVDDEKLEEEFAPYGTITSAKVMRTENGKSKGFGFVCFSTPEEATKAITEKNQQIVAGKPLYVAIAQRKDVRRSQLAQQIQARNQMRYQQATAAAAAAAAGMPGQFMPPMFYGVMPPRGVPFNGPNPQQMNPMGGMPKNGMPPQFRNGPVYGVPPQGGFPRNANDNNQFYQQKQRQALGEQLYKKVSAKTSNEEAAGKITGMILDLPPQEVFPLLESDELFEQHYKEASAAYESFKKEQEQQTEQA',\n",
    " 'TEM-1': 'MSIQHFRVALIPFFAAFCLPVFAHPETLVKVKDAEDQLGARVGYIELDLNSGKILESFRPEERFPMMSTFKVLLCGAVLSRVDAGQEQLGRRIHYSQNDLVEYSPVTEKHLTDGMTVRELCSAAITMSDNTAANLLLTTIGGPKELTAFLHNMGDHVTRLDRWEPELNEAIPNDERDTTMPAAMATTLRKLLTGELLTLASRQQLIDWMEADKVAGPLLRSALPAGWFIADKSGAGERGSRGIIAALGPDGKPSRIVVIYTTGSQATMDERNRQIAEIGASLIKHW',\n",
    " 'UBI4': 'MQIFVKTLTGKTITLEVESSDTIDNVKSKIQDKEGIPPDQQRLIFAGKQLEDGRTLSDYNIQKESTLHLVLRLRGGMQIFVKTLTGKTITLEVESSDTIDNVKSKIQDKEGIPPDQQRLIFAGKQLEDGRTLSDYNIQKESTLHLVLRLRGGMQIFVKTLTGKTITLEVESSDTIDNVKSKIQDKEGIPPDQQRLIFAGKQLEDGRTLSDYNIQKESTLHLVLRLRGGMQIFVKTLTGKTITLEVESSDTIDNVKSKIQDKEGIPPDQQRLIFAGKQLEDGRTLSDYNIQKESTLHLVLRLRGGMQIFVKTLTGKTITLEVESSDTIDNVKSKIQDKEGIPPDQQRLIFAGKQLEDGRTLSDYNIQKESTLHLVLRLRGGN',\n",
    " 'Yap65': 'MDPGQQPPPQPAPQGQGQPPSQPPQGQGPPSGPGQPAPAATQAAPQAPPAGHQIVHVRGDSETDLEALFNAVMNPKTANVPQTVPMRLRKLPDSFFKPPEPKSHSRQASTDAGTAGALTPQHVRAHSSPASLQLGAVSPGTLTPTGVVSGPAATPTAQHLRQSSFEIPDDVPLPAGWEMAKTSSGQRYFLNHIDQTTTWQDPRKAMLSQMNVTAPTSPPVQQNMMNSASGPLPDGWEQAMTQDGEIYYINHKNKTTSWLDPRLDPRFAMNQRISQSAPVKQPPPLAPQSPQGGVMGGSNSNQQQQMRLQQLQMEKERLRLKQQELLRQAMRNINPSTANSPKCQELALRSQLPTLEQDGGTQNPVSSPGMSQELRTMTTNSSDPFLNSGTYHSRDESTDSGLSMSSYSVPRTPDDFLNSVDEMDTGDTINQSTLPSQQNRFPDYLEAIPGTNVDLGTLEGDGMNIEGEELMPSLQEALSSDILNDMESVLAATKLDKESFLTWL',\n",
    " 'gb1': 'MEKEKKVKYFLRKSAFGLASVSAAFLVGSTVFAVDSPIEDTPIIRNGGELTNLLGNSETTLALRNEESATADLTAAAVADTVAAAAAENAGAAAWEAAAAADALAKAKADALKEFNKYGVSDYYKNLINNAKTVEGIKDLQAQVVESAKKARISEATDGLSDFLKSQTPAEDTVKSIELAEAKVLANRELDKYGVSDYHKNLINNAKTVEGVKELIDEILAALPKTDQYKLILNGKTLKGETTTEAVDAATAEKVFKQYANDNGVDGEWTYDDATKTFTVTEKPEVIDASELTPAVTTYKLVINGKTLKGETTTKAVDAETAEKAFKQYANDNGVDGVWTYDDATKTFTVTEMVTEVPGDAPTEPEKPEASIPLVPLTPATPIAKDDAKKDDTKKEDAKKPEAKKDDAKKAETLPTTGEGSNPFFTAAALAVMAGAGALAVASKRKED',\n",
    " 'hsp90': 'MASETFEFQAEITQLMSLIINTVYSNKEIFLRELISNASDALDKIRYKSLSDPKQLETEPDLFIRITPKPEQKVLEIRDSGIGMTKAELINNLGTIAKSGTKAFMEALSAGADVSMIGQFGVGFYSLFLVADRVQVISKSNDDEQYIWESNAGGSFTVTLDEVNERIGRGTILRLFLKDDQLEYLEEKRIKEVIKRHSEFVAYPIQLVVTKEVEKEVPIPEEEKKDEEKKDEEKKDEDDKKPKLEEVDEEEEKKPKTKKVKEEVQEIEELNKTKPLWTRNPSDITQEEYNAFYKSISNDWEDPLYVKHFSVEGQLEFRAILFIPKRAPFDLFESKKKKNNIKLYVRRVFITDEAEDLIPEWLSFVKGVVDSEDLPLNLSREMLQQNKIMKVIRKNIVKKLIEAFNEIAEDSEQFEKFYSAFSKNIKLGVHEDTQNRAALAKLLRYNSTKSVDELTSLTDYVTRMPEHQKNIYYITGESLKAVEKSPFLDALKAKNFEVLFLTDPIDEYAFTQLKEFEGKTLVDITKDFELEETDEEKAEREKEIKEYEPLTKALKEILGDQVEKVVVSYKLLDAPAAIRTGQFGWSANMERIMKAQALRDSSMSSYMSSKKTFEISPKSPIIKELKKRVDEGGAQDKTVKDLTKLLYETALLTSGFSLDEPTSFASRINRLISLGLNIDEDEETETAPEASTAAPVEEVPADTEMEEVD'})"
   ]
  },
  {
   "cell_type": "code",
   "execution_count": 32,
   "metadata": {},
   "outputs": [
    {
     "data": {
      "text/plain": [
       "Kka2         264\n",
       "TEM-1        286\n",
       "UBI4         381\n",
       "gb1          448\n",
       "Yap65        504\n",
       "Pab1         577\n",
       "hsp90        709\n",
       "PSD95pdz3    724\n",
       "dtype: int64"
      ]
     },
     "execution_count": 32,
     "metadata": {},
     "output_type": "execute_result"
    }
   ],
   "source": [
    "fowler_seqs.map(len).sort_values()"
   ]
  },
  {
   "cell_type": "code",
   "execution_count": 33,
   "metadata": {},
   "outputs": [],
   "source": [
    "import Levenshtein"
   ]
  },
  {
   "cell_type": "code",
   "execution_count": 34,
   "metadata": {},
   "outputs": [],
   "source": [
    "distances = pd.DataFrame(index = fowler_seqs.index, columns = fowler_seqs.index)\n",
    "for i in fowler_seqs.index:\n",
    "    for j in fowler_seqs.index:\n",
    "        distances.loc[i,j] = Levenshtein.ratio(fowler_seqs.loc[i],fowler_seqs.loc[j])"
   ]
  },
  {
   "cell_type": "code",
   "execution_count": 35,
   "metadata": {},
   "outputs": [],
   "source": [
    "def mut(st):\n",
    "    sub_position = np.random.randint(0,len(st))\n",
    "    return st[:sub_position] + 'A' + st[sub_position+1:]"
   ]
  },
  {
   "cell_type": "markdown",
   "metadata": {},
   "source": [
    "## 1 mutation away:"
   ]
  },
  {
   "cell_type": "code",
   "execution_count": 36,
   "metadata": {},
   "outputs": [
    {
     "data": {
      "text/plain": [
       "0.99787258081778485"
      ]
     },
     "execution_count": 36,
     "metadata": {},
     "output_type": "execute_result"
    }
   ],
   "source": [
    "fowler_seqs.map(lambda x: np.mean([Levenshtein.ratio(x, mut(x)) for i in range(100)])).mean()"
   ]
  },
  {
   "cell_type": "markdown",
   "metadata": {},
   "source": [
    "## average similarity between 8 proteins in this analysis:"
   ]
  },
  {
   "cell_type": "code",
   "execution_count": 37,
   "metadata": {},
   "outputs": [
    {
     "data": {
      "text/plain": [
       "0.42680292510101953"
      ]
     },
     "execution_count": 37,
     "metadata": {},
     "output_type": "execute_result"
    }
   ],
   "source": [
    "distances.mean().mean()"
   ]
  },
  {
   "cell_type": "markdown",
   "metadata": {},
   "source": [
    "# How much better are we at quantitative function prediction?"
   ]
  },
  {
   "cell_type": "code",
   "execution_count": 38,
   "metadata": {},
   "outputs": [
    {
     "name": "stdout",
     "output_type": "stream",
     "text": [
      "TEM1            1.61655\n",
      "E1 Ubiquitin    1.48562\n",
      "Gb1             3.11211\n",
      "HSP90           2.24872\n",
      "Kka2            1.19785\n",
      "Pab1            1.86475\n",
      "PSD95pdz3       2.21245\n",
      "Ubiquitin       1.97969\n",
      "Yap65            1.8598\n",
      "dtype: object\n",
      "mean 1.95306000874\n"
     ]
    }
   ],
   "source": [
    "print(intermediate.loc['Best Doc2Vec'] / intermediate.loc['UniRep Fusion'])\n",
    "print('mean',(intermediate.loc['Best Doc2Vec'] / intermediate.loc['UniRep Fusion']).mean())"
   ]
  },
  {
   "cell_type": "markdown",
   "metadata": {},
   "source": [
    "# The non Quantitative function prediction parts of Supp. Table S4-S5:"
   ]
  },
  {
   "cell_type": "markdown",
   "metadata": {},
   "source": [
    "## Small scale function prediction tasks from Yang 2018"
   ]
  },
  {
   "cell_type": "code",
   "execution_count": 39,
   "metadata": {},
   "outputs": [
    {
     "data": {
      "text/html": [
       "<style  type=\"text/css\" >\n",
       "    #T_2398dbde_c48e_11e9_838c_6d7c87f6fa87 th {\n",
       "          max-width: 120px;\n",
       "          text-align: center;\n",
       "    }    #T_2398dbde_c48e_11e9_838c_6d7c87f6fa87 td {\n",
       "          text-align: center;\n",
       "    }    #T_2398dbde_c48e_11e9_838c_6d7c87f6fa87row0_col0 {\n",
       "            background-color:  lightgreen;\n",
       "        }    #T_2398dbde_c48e_11e9_838c_6d7c87f6fa87row0_col1 {\n",
       "            background-color:  lightgreen;\n",
       "        }    #T_2398dbde_c48e_11e9_838c_6d7c87f6fa87row1_col2 {\n",
       "            background-color:  lightgreen;\n",
       "        }    #T_2398dbde_c48e_11e9_838c_6d7c87f6fa87row1_col3 {\n",
       "            background-color:  lightgreen;\n",
       "        }</style>  \n",
       "<table id=\"T_2398dbde_c48e_11e9_838c_6d7c87f6fa87\" > \n",
       "<thead>    <tr> \n",
       "        <th class=\"blank level0\" ></th> \n",
       "        <th class=\"col_heading level0 col0\" >Cytochrome P450 Thermostability</th> \n",
       "        <th class=\"col_heading level0 col1\" >Rhodopsin Peak Absorption Wavelength</th> \n",
       "        <th class=\"col_heading level0 col2\" >Epoxide Hydrolase Enantioselectivity</th> \n",
       "        <th class=\"col_heading level0 col3\" >Channelrhodopsin Membrane Localization</th> \n",
       "    </tr></thead> \n",
       "<tbody>    <tr> \n",
       "        <th id=\"T_2398dbde_c48e_11e9_838c_6d7c87f6fa87level0_row0\" class=\"row_heading level0 row0\" >UniRep Fusion</th> \n",
       "        <td id=\"T_2398dbde_c48e_11e9_838c_6d7c87f6fa87row0_col0\" class=\"data row0 col0\" >15.8</td> \n",
       "        <td id=\"T_2398dbde_c48e_11e9_838c_6d7c87f6fa87row0_col1\" class=\"data row0 col1\" >499</td> \n",
       "        <td id=\"T_2398dbde_c48e_11e9_838c_6d7c87f6fa87row0_col2\" class=\"data row0 col2\" >189</td> \n",
       "        <td id=\"T_2398dbde_c48e_11e9_838c_6d7c87f6fa87row0_col3\" class=\"data row0 col3\" >1.25</td> \n",
       "    </tr>    <tr> \n",
       "        <th id=\"T_2398dbde_c48e_11e9_838c_6d7c87f6fa87level0_row1\" class=\"row_heading level0 row1\" >Our Best Baseline</th> \n",
       "        <td id=\"T_2398dbde_c48e_11e9_838c_6d7c87f6fa87row1_col0\" class=\"data row1 col0\" >21.7</td> \n",
       "        <td id=\"T_2398dbde_c48e_11e9_838c_6d7c87f6fa87row1_col1\" class=\"data row1 col1\" >571</td> \n",
       "        <td id=\"T_2398dbde_c48e_11e9_838c_6d7c87f6fa87row1_col2\" class=\"data row1 col2\" >93.2</td> \n",
       "        <td id=\"T_2398dbde_c48e_11e9_838c_6d7c87f6fa87row1_col3\" class=\"data row1 col3\" >0.912</td> \n",
       "    </tr>    <tr> \n",
       "        <th id=\"T_2398dbde_c48e_11e9_838c_6d7c87f6fa87level0_row2\" class=\"row_heading level0 row2\" >RGN</th> \n",
       "        <td id=\"T_2398dbde_c48e_11e9_838c_6d7c87f6fa87row2_col0\" class=\"data row2 col0\" >24.4</td> \n",
       "        <td id=\"T_2398dbde_c48e_11e9_838c_6d7c87f6fa87row2_col1\" class=\"data row2 col1\" >2.79e+03</td> \n",
       "        <td id=\"T_2398dbde_c48e_11e9_838c_6d7c87f6fa87row2_col2\" class=\"data row2 col2\" >1.2e+03</td> \n",
       "        <td id=\"T_2398dbde_c48e_11e9_838c_6d7c87f6fa87row2_col3\" class=\"data row2 col3\" >1.61</td> \n",
       "    </tr>    <tr> \n",
       "        <th id=\"T_2398dbde_c48e_11e9_838c_6d7c87f6fa87level0_row3\" class=\"row_heading level0 row3\" >Best Doc2Vec</th> \n",
       "        <td id=\"T_2398dbde_c48e_11e9_838c_6d7c87f6fa87row3_col0\" class=\"data row3 col0\" >18.1</td> \n",
       "        <td id=\"T_2398dbde_c48e_11e9_838c_6d7c87f6fa87row3_col1\" class=\"data row3 col1\" >530</td> \n",
       "        <td id=\"T_2398dbde_c48e_11e9_838c_6d7c87f6fa87row3_col2\" class=\"data row3 col2\" >95.7</td> \n",
       "        <td id=\"T_2398dbde_c48e_11e9_838c_6d7c87f6fa87row3_col3\" class=\"data row3 col3\" >1</td> \n",
       "    </tr></tbody> \n",
       "</table> "
      ],
      "text/plain": [
       "<pandas.io.formats.style.Styler at 0x7f769b01b6d8>"
      ]
     },
     "execution_count": 39,
     "metadata": {},
     "output_type": "execute_result"
    }
   ],
   "source": [
    "intermediate = final_table.loc[:,['arnold_T50', 'arnold_absorption', 'arnold_enantioselectivity',\n",
    "       'arnold_localization']].copy()\n",
    "intermediate.index = [plot_style_utils.main_text_rep_names[n] for n in intermediate.index]\n",
    "\n",
    "intermediate.columns = [task_names[n] for n in intermediate.columns.levels[0][intermediate.columns.labels[0]]]\n",
    "\n",
    "#intermediate.columns = [f\"plot_style_utils.\" d,s in intermediate.columns]\n",
    "\n",
    "intermediate.style.apply(\n",
    "    highlight_min, axis=0\n",
    ").set_precision(3).set_table_styles(\n",
    "        [\n",
    "            dict(selector=\"th\",props=[('max-width', '120px'), ('text-align','center')]),\n",
    "            dict(selector=\"td\",props=[('text-align','center')])\n",
    "        ]\n",
    "    )"
   ]
  },
  {
   "cell_type": "markdown",
   "metadata": {},
   "source": [
    "## Stability tasks"
   ]
  },
  {
   "cell_type": "code",
   "execution_count": 40,
   "metadata": {},
   "outputs": [
    {
     "data": {
      "text/html": [
       "<style  type=\"text/css\" >\n",
       "    #T_24aa705a_c48e_11e9_838c_6d7c87f6fa87 th {\n",
       "          max-width: 120px;\n",
       "          text-align: center;\n",
       "    }    #T_24aa705a_c48e_11e9_838c_6d7c87f6fa87 td {\n",
       "          text-align: center;\n",
       "    }    #T_24aa705a_c48e_11e9_838c_6d7c87f6fa87row0_col0 {\n",
       "            background-color:  lightgreen;\n",
       "        }    #T_24aa705a_c48e_11e9_838c_6d7c87f6fa87row0_col1 {\n",
       "            background-color:  lightgreen;\n",
       "        }</style>  \n",
       "<table id=\"T_24aa705a_c48e_11e9_838c_6d7c87f6fa87\" > \n",
       "<thead>    <tr> \n",
       "        <th class=\"blank level0\" ></th> \n",
       "        <th class=\"col_heading level0 col0\" >Natural & De-Novo Designed Proteins Stability - Site Saturation Mutagenesis</th> \n",
       "        <th class=\"col_heading level0 col1\" >De-Novo Designed Proteins Stability - Design Rounds</th> \n",
       "    </tr></thead> \n",
       "<tbody>    <tr> \n",
       "        <th id=\"T_24aa705a_c48e_11e9_838c_6d7c87f6fa87level0_row0\" class=\"row_heading level0 row0\" >UniRep Fusion</th> \n",
       "        <td id=\"T_24aa705a_c48e_11e9_838c_6d7c87f6fa87row0_col0\" class=\"data row0 col0\" >0.0304</td> \n",
       "        <td id=\"T_24aa705a_c48e_11e9_838c_6d7c87f6fa87row0_col1\" class=\"data row0 col1\" >0.179</td> \n",
       "    </tr>    <tr> \n",
       "        <th id=\"T_24aa705a_c48e_11e9_838c_6d7c87f6fa87level0_row1\" class=\"row_heading level0 row1\" >Our Best Baseline</th> \n",
       "        <td id=\"T_24aa705a_c48e_11e9_838c_6d7c87f6fa87row1_col0\" class=\"data row1 col0\" >0.0398</td> \n",
       "        <td id=\"T_24aa705a_c48e_11e9_838c_6d7c87f6fa87row1_col1\" class=\"data row1 col1\" >0.201</td> \n",
       "    </tr>    <tr> \n",
       "        <th id=\"T_24aa705a_c48e_11e9_838c_6d7c87f6fa87level0_row2\" class=\"row_heading level0 row2\" >RGN</th> \n",
       "        <td id=\"T_24aa705a_c48e_11e9_838c_6d7c87f6fa87row2_col0\" class=\"data row2 col0\" >0.0338</td> \n",
       "        <td id=\"T_24aa705a_c48e_11e9_838c_6d7c87f6fa87row2_col1\" class=\"data row2 col1\" >0.189</td> \n",
       "    </tr>    <tr> \n",
       "        <th id=\"T_24aa705a_c48e_11e9_838c_6d7c87f6fa87level0_row3\" class=\"row_heading level0 row3\" >Best Doc2Vec</th> \n",
       "        <td id=\"T_24aa705a_c48e_11e9_838c_6d7c87f6fa87row3_col0\" class=\"data row3 col0\" >0.0473</td> \n",
       "        <td id=\"T_24aa705a_c48e_11e9_838c_6d7c87f6fa87row3_col1\" class=\"data row3 col1\" >0.258</td> \n",
       "    </tr></tbody> \n",
       "</table> "
      ],
      "text/plain": [
       "<pandas.io.formats.style.Styler at 0x7f769b01bbe0>"
      ]
     },
     "execution_count": 40,
     "metadata": {},
     "output_type": "execute_result"
    }
   ],
   "source": [
    "intermediate = final_table.loc[:,['rocklin_ssm2','rocklin_all_rds']].copy()\n",
    "\n",
    "intermediate.index = [plot_style_utils.main_text_rep_names[n] for n in intermediate.index]\n",
    "\n",
    "intermediate.columns = [task_names[n] for n in intermediate.columns.levels[0][intermediate.columns.labels[0]]]\n",
    "\n",
    "#.style.apply(highlight_min, axis=0).set_precision(3)\n",
    "intermediate.style.apply(highlight_min, axis=0).set_precision(3).set_table_styles(\n",
    "        [\n",
    "            dict(selector=\"th\",props=[('max-width', '120px'), ('text-align','center')]),\n",
    "            dict(selector=\"td\",props=[('text-align','center')])\n",
    "        ]\n",
    "    )"
   ]
  },
  {
   "cell_type": "markdown",
   "metadata": {},
   "source": [
    "## how much better?"
   ]
  },
  {
   "cell_type": "code",
   "execution_count": 41,
   "metadata": {},
   "outputs": [
    {
     "data": {
      "text/plain": [
       "Natural & De-Novo Designed Proteins Stability - Site Saturation Mutagenesis    1.55695\n",
       "De-Novo Designed Proteins Stability - Design Rounds                            1.43851\n",
       "dtype: object"
      ]
     },
     "metadata": {},
     "output_type": "display_data"
    },
    {
     "name": "stdout",
     "output_type": "stream",
     "text": [
      "mean 1.49772700136\n"
     ]
    }
   ],
   "source": [
    "display(intermediate.loc['Best Doc2Vec'] / intermediate.loc['UniRep Fusion'])\n",
    "print('mean',(intermediate.loc['Best Doc2Vec'] / intermediate.loc['UniRep Fusion']).mean())"
   ]
  },
  {
   "cell_type": "code",
   "execution_count": 42,
   "metadata": {},
   "outputs": [
    {
     "data": {
      "text/html": [
       "<style  type=\"text/css\" >\n",
       "    #T_2673a4ec_c48e_11e9_838c_6d7c87f6fa87 th {\n",
       "          max-width: 120px;\n",
       "          text-align: center;\n",
       "    }    #T_2673a4ec_c48e_11e9_838c_6d7c87f6fa87 td {\n",
       "          text-align: center;\n",
       "    }    #T_2673a4ec_c48e_11e9_838c_6d7c87f6fa87row0_col0 {\n",
       "            background-color:  lightgreen;\n",
       "        }    #T_2673a4ec_c48e_11e9_838c_6d7c87f6fa87row0_col1 {\n",
       "            background-color:  lightgreen;\n",
       "        }</style>  \n",
       "<table id=\"T_2673a4ec_c48e_11e9_838c_6d7c87f6fa87\" > \n",
       "<thead>    <tr> \n",
       "        <th class=\"blank level0\" ></th> \n",
       "        <th class=\"col_heading level0 col0\" >Natural</th> \n",
       "        <th class=\"col_heading level0 col1\" >De-Novo Designed</th> \n",
       "    </tr></thead> \n",
       "<tbody>    <tr> \n",
       "        <th id=\"T_2673a4ec_c48e_11e9_838c_6d7c87f6fa87level0_row0\" class=\"row_heading level0 row0\" >UniRep Fusion</th> \n",
       "        <td id=\"T_2673a4ec_c48e_11e9_838c_6d7c87f6fa87row0_col0\" class=\"data row0 col0\" >0.0342</td> \n",
       "        <td id=\"T_2673a4ec_c48e_11e9_838c_6d7c87f6fa87row0_col1\" class=\"data row0 col1\" >0.0255</td> \n",
       "    </tr>    <tr> \n",
       "        <th id=\"T_2673a4ec_c48e_11e9_838c_6d7c87f6fa87level0_row1\" class=\"row_heading level0 row1\" >Our Best Baseline</th> \n",
       "        <td id=\"T_2673a4ec_c48e_11e9_838c_6d7c87f6fa87row1_col0\" class=\"data row1 col0\" >0.0532</td> \n",
       "        <td id=\"T_2673a4ec_c48e_11e9_838c_6d7c87f6fa87row1_col1\" class=\"data row1 col1\" >0.0322</td> \n",
       "    </tr>    <tr> \n",
       "        <th id=\"T_2673a4ec_c48e_11e9_838c_6d7c87f6fa87level0_row2\" class=\"row_heading level0 row2\" >RGN</th> \n",
       "        <td id=\"T_2673a4ec_c48e_11e9_838c_6d7c87f6fa87row2_col0\" class=\"data row2 col0\" >0.0449</td> \n",
       "        <td id=\"T_2673a4ec_c48e_11e9_838c_6d7c87f6fa87row2_col1\" class=\"data row2 col1\" >0.0277</td> \n",
       "    </tr>    <tr> \n",
       "        <th id=\"T_2673a4ec_c48e_11e9_838c_6d7c87f6fa87level0_row3\" class=\"row_heading level0 row3\" >Best Doc2Vec</th> \n",
       "        <td id=\"T_2673a4ec_c48e_11e9_838c_6d7c87f6fa87row3_col0\" class=\"data row3 col0\" >0.0711</td> \n",
       "        <td id=\"T_2673a4ec_c48e_11e9_838c_6d7c87f6fa87row3_col1\" class=\"data row3 col1\" >0.0388</td> \n",
       "    </tr></tbody> \n",
       "</table> "
      ],
      "text/plain": [
       "<pandas.io.formats.style.Styler at 0x7f769b05fac8>"
      ]
     },
     "execution_count": 42,
     "metadata": {},
     "output_type": "execute_result"
    }
   ],
   "source": [
    "# Holds in separate analysis for natural and engineered proteins too!\n",
    "\n",
    "intermediate = final_table.loc[:,['rocklin_ssm2_nat_eng']].copy()\n",
    "\n",
    "intermediate.index = [plot_style_utils.main_text_rep_names[n] for n in intermediate.index]\n",
    "\n",
    "intermediate.columns = [task_names[n] for n in intermediate.columns.levels[1][intermediate.columns.labels[1]]]\n",
    "\n",
    "#.style.apply(highlight_min, axis=0).set_precision(3)\n",
    "intermediate.style.apply(highlight_min, axis=0).set_precision(3).set_table_styles(\n",
    "        [\n",
    "            dict(selector=\"th\",props=[('max-width', '120px'), ('text-align','center')]),\n",
    "            dict(selector=\"td\",props=[('text-align','center')])\n",
    "        ]\n",
    "    )"
   ]
  },
  {
   "cell_type": "code",
   "execution_count": null,
   "metadata": {},
   "outputs": [],
   "source": []
  }
 ],
 "metadata": {
  "kernelspec": {
   "display_name": "Python [conda env:grig_alldatasets_run]",
   "language": "python",
   "name": "conda-env-grig_alldatasets_run-py"
  },
  "language_info": {
   "codemirror_mode": {
    "name": "ipython",
    "version": 3
   },
   "file_extension": ".py",
   "mimetype": "text/x-python",
   "name": "python",
   "nbconvert_exporter": "python",
   "pygments_lexer": "ipython3",
   "version": "3.6.6"
  }
 },
 "nbformat": 4,
 "nbformat_minor": 2
}
