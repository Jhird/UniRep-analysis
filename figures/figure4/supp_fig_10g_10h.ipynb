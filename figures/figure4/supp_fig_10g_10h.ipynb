{
 "cells": [
  {
   "cell_type": "markdown",
   "metadata": {},
   "source": [
    "# Code to generate Supplemental Figure S10g and S10h\n",
    "\n",
    "\n",
    "## Requirements for running this notebook\n",
    "\n",
    "### Environment\n",
    "\n",
    "1. You'll need Python 3.5.2\n",
    "\n",
    "2. In the root directory of the repository, set up a virtual enrivonment: `python3 -m venv venv/`\n",
    "\n",
    "3. Activate the virtual environment `source venv/bin/activate .`\n",
    "\n",
    "4. Inside the virtual environment (you should see `\"(venv)\"` prefixed to your terminal prompt), install requirements `pip install -r venv_requirements/requirements-py3.txt`. "
   ]
  },
  {
   "cell_type": "markdown",
   "metadata": {},
   "source": [
    "## Imports and set seeds for reproducibility"
   ]
  },
  {
   "cell_type": "code",
   "execution_count": 1,
   "metadata": {},
   "outputs": [],
   "source": [
    "import sys\n",
    "import os\n",
    "import random\n",
    "\n",
    "import numpy as np\n",
    "import matplotlib     \n",
    "import matplotlib.pyplot as plt\n",
    "import seaborn as sns\n",
    "sns.reset_defaults()\n",
    "from matplotlib.colors import ListedColormap\n",
    "\n",
    "\n",
    "from sklearn.decomposition import IncrementalPCA\n",
    "from sklearn.externals import joblib\n",
    "\n",
    "sys.path.append('../../common/')\n",
    "import plot_style_utils\n",
    "\n",
    "import common\n",
    "\n",
    "%reload_ext autoreload\n",
    "%autoreload 2\n",
    "\n",
    "np.random.seed(1)\n",
    "random.seed(1)"
   ]
  },
  {
   "cell_type": "markdown",
   "metadata": {},
   "source": [
    "## Grab the required data\n",
    "\n",
    "`awscli` is required for the dataset downloads below. It is installed in the virtual environment, and if you've set that up properly, the command below should just work."
   ]
  },
  {
   "cell_type": "code",
   "execution_count": 2,
   "metadata": {},
   "outputs": [
    {
     "name": "stdout",
     "output_type": "stream",
     "text": [
      "aws s3 cp --no-sign-request s3://protein-representation-learning/mlpe_gfp/generalization_mechanism/reps_sarkisyan.dict.joblibpkl ../../data/supp_fig_10gh/\n",
      "aws s3 cp --no-sign-request s3://protein-representation-learning/mlpe_gfp/generalization_mechanism/all_fpbase_reps.dict.joblibpkl ../../data/supp_fig_10gh/\n",
      "aws s3 cp --no-sign-request s3://protein-representation-learning/mlpe_gfp/evotune/sark_sfGFP_finetune1_avg_hidden.npz ../../data/supp_fig_10gh/\n",
      "aws s3 cp --no-sign-request s3://protein-representation-learning/mlpe_gfp/generalization_mechanism/finetune1_fpbase_reps.npy ../../data/supp_fig_10gh/\n"
     ]
    }
   ],
   "source": [
    "DATA_DIR = '../../data/supp_fig_10gh/'\n",
    "os.makedirs(DATA_DIR, exist_ok=True)\n",
    "\n",
    "common.sync_dataset('gfp_sarkisyan_baseline_reps', DATA_DIR)\n",
    "common.sync_dataset('gfp_gen_set_baseline_reps', DATA_DIR)\n",
    "\n",
    "common.sync_dataset('gfp_sarkisyan_evotuned_unirep', DATA_DIR)\n",
    "common.sync_dataset('gfp_gen_set_evotuned_unirep', DATA_DIR)\n"
   ]
  },
  {
   "cell_type": "markdown",
   "metadata": {},
   "source": [
    "## Set up the plotting context"
   ]
  },
  {
   "cell_type": "code",
   "execution_count": 3,
   "metadata": {},
   "outputs": [
    {
     "data": {
      "image/png": "[encoded data removed]",
      "text/plain": [
       "<Figure size 720x72 with 1 Axes>"
      ]
     },
     "metadata": {},
     "output_type": "display_data"
    }
   ],
   "source": [
    "plot_style_utils.set_pub_plot_context(context=\"talk\", colors=\"categorical\")\n",
    "CAT_COLORS = sns.color_palette()\n",
    "tmp = CAT_COLORS[3]\n",
    "CAT_COLORS[3] = CAT_COLORS[7]\n",
    "CAT_COLORS[7] = tmp\n",
    "MPL_CMAP = ListedColormap(sns.color_palette().as_hex())\n",
    "\n",
    "sns.palplot(sns.color_palette())\n",
    "plt.show()"
   ]
  },
  {
   "cell_type": "markdown",
   "metadata": {},
   "source": [
    "## First load up a dictionary of representations for the Sarkisyan dataset and the FPbase augmented dataset.\n",
    "\n",
    "The Sarkisyan dataset consists of ~50K avGFP mutants sampled from the local fitness landscape of avGFP. \n",
    "\n",
    "The FPbase augmented dataset is what we use to assess generalization in Figure 4. It consists of several GFP homologs and engineered variants that are distant to avGFP. The dataset is augmented with mutants (1-12 mutations) of each of theses parent sequences."
   ]
  },
  {
   "cell_type": "code",
   "execution_count": 4,
   "metadata": {},
   "outputs": [],
   "source": [
    "sark_rep_file = common.dataset_name_to_local_path('gfp_sarkisyan_baseline_reps', DATA_DIR)\n",
    "fpbase_rep_file = common.dataset_name_to_local_path('gfp_gen_set_baseline_reps', DATA_DIR)\n",
    "\n",
    "baseline_sark_reps = joblib.load(sark_rep_file)\n",
    "baseline_fpbase_reps = joblib.load(fpbase_rep_file)"
   ]
  },
  {
   "cell_type": "markdown",
   "metadata": {},
   "source": [
    "## Evaluate the mechanism behind why the baseline Doc2Vec representation does not generalize well\n",
    "\n",
    "For the visualization, we downsample to 1K datapoints randomly."
   ]
  },
  {
   "cell_type": "code",
   "execution_count": 5,
   "metadata": {},
   "outputs": [],
   "source": [
    "BASELINE_REPRESENTATION = 'random_3_7.pkl' # Best performing Doc2Vec model. As seen in Fig 4.\n",
    "\n",
    "sark_baseline_rep = baseline_sark_reps[BASELINE_REPRESENTATION]['X_train']\n",
    "fpbase_baseline_rep = baseline_fpbase_reps[BASELINE_REPRESENTATION]\n",
    "\n",
    "sark_downsample_idx = np.random.permutation(sark_baseline_rep.shape[0])[:1000]\n",
    "fpbase_downsample_idx = np.random.permutation(fpbase_baseline_rep.shape[0])[:1000]"
   ]
  },
  {
   "cell_type": "markdown",
   "metadata": {},
   "source": [
    "Learn the principal components of the baseline representation. The PCs are learned on the FULL sarkisyan and fpbase dataset combined."
   ]
  },
  {
   "cell_type": "code",
   "execution_count": 6,
   "metadata": {},
   "outputs": [],
   "source": [
    "baseline_ipca = IncrementalPCA(n_components=3, whiten=True, batch_size=5000)\n",
    "baseline_ipca.fit(np.vstack((sark_baseline_rep, fpbase_baseline_rep)))\n",
    "sark_baseline_s = baseline_ipca.transform(sark_baseline_rep[sark_downsample_idx])\n",
    "fpbase_baseline_s = baseline_ipca.transform(fpbase_baseline_rep[fpbase_downsample_idx])"
   ]
  },
  {
   "cell_type": "markdown",
   "metadata": {},
   "source": [
    "Visualize"
   ]
  },
  {
   "cell_type": "code",
   "execution_count": 7,
   "metadata": {},
   "outputs": [
    {
     "name": "stderr",
     "output_type": "stream",
     "text": [
      "/home/ubuntu/GitHub/UniRep-analysis/venv/lib/python3.5/site-packages/matplotlib/font_manager.py:1241: UserWarning: findfont: Font family ['Arial'] not found. Falling back to DejaVu Sans.\n",
      "  (prop.get_family(), self.defaultFamily[fontext]))\n"
     ]
    },
    {
     "data": {
      "image/png": "[encoded data removed]",
      "text/plain": [
       "<Figure size 288x288 with 1 Axes>"
      ]
     },
     "metadata": {},
     "output_type": "display_data"
    }
   ],
   "source": [
    "XPC = 0\n",
    "YPC = 1\n",
    "\n",
    "fig = plt.figure(figsize=(4,4))\n",
    "plt.plot(fpbase_baseline_s[:,XPC], fpbase_baseline_s[:,YPC], '.', color=CAT_COLORS[1], alpha=1)\n",
    "plt.plot(sark_baseline_s[:,XPC], sark_baseline_s[:,YPC], '.', color=CAT_COLORS[0], alpha=1)\n",
    "plt.axis('square')\n",
    "plt.xticks([])\n",
    "plt.yticks([])\n",
    "plt.xlabel('Doc2Vec PC1')\n",
    "plt.ylabel('Doc2Vec PC2')\n",
    "\n",
    "plt.show()"
   ]
  },
  {
   "cell_type": "markdown",
   "metadata": {},
   "source": [
    "The projection of the Sarkisyan represented sequences are in blue. The projection of the FPBase sequences are in red. As you can see there isn't a good overlap between the two distributions. This is one explanation why Doc2Vec doesn't generalize well. "
   ]
  },
  {
   "cell_type": "markdown",
   "metadata": {},
   "source": [
    "## Evotuned UniRep"
   ]
  },
  {
   "cell_type": "markdown",
   "metadata": {},
   "source": [
    "Repeat the exact same workflow but for Evotuned UniRep. Note internally, we referred to Evotuned UniRep as `finetune1`, hence that reference in the code below."
   ]
  },
  {
   "cell_type": "code",
   "execution_count": 8,
   "metadata": {},
   "outputs": [],
   "source": [
    "sark_evouni_rep_file = common.dataset_name_to_local_path('gfp_sarkisyan_evotuned_unirep', DATA_DIR)\n",
    "fpbase_evouni_rep_file = common.dataset_name_to_local_path('gfp_gen_set_evotuned_unirep', DATA_DIR)\n",
    "\n",
    "sark_evouni_rep = np.load(sark_evouni_rep_file)['X_train']\n",
    "fpbase_evouni_rep = np.load(fpbase_evouni_rep_file)\n",
    "\n",
    "sark_downsample_idx = np.random.permutation(sark_evouni_rep.shape[0])[:1000]\n",
    "fpbase_downsample_idx = np.random.permutation(fpbase_evouni_rep.shape[0])[:1000]"
   ]
  },
  {
   "cell_type": "code",
   "execution_count": 9,
   "metadata": {},
   "outputs": [
    {
     "data": {
      "text/plain": [
       "IncrementalPCA(batch_size=5000, copy=True, n_components=3, whiten=True)"
      ]
     },
     "execution_count": 9,
     "metadata": {},
     "output_type": "execute_result"
    }
   ],
   "source": [
    "evouni_ipca = IncrementalPCA(n_components=3, whiten=True, batch_size=5000)\n",
    "evouni_ipca.fit(np.vstack((sark_evouni_rep, fpbase_evouni_rep)))"
   ]
  },
  {
   "cell_type": "code",
   "execution_count": 10,
   "metadata": {},
   "outputs": [],
   "source": [
    "sark_evouni_s = evouni_ipca.transform(sark_evouni_rep[sark_downsample_idx])\n",
    "fpbase_evouni_s = evouni_ipca.transform(fpbase_evouni_rep[fpbase_downsample_idx])"
   ]
  },
  {
   "cell_type": "code",
   "execution_count": 11,
   "metadata": {},
   "outputs": [
    {
     "data": {
      "image/png": "[encoded data removed]",
      "text/plain": [
       "<Figure size 288x288 with 1 Axes>"
      ]
     },
     "metadata": {},
     "output_type": "display_data"
    }
   ],
   "source": [
    "fig = plt.figure(figsize=(4,4))\n",
    "plt.plot(fpbase_evouni_s[:,XPC], fpbase_evouni_s[:,YPC], '.', color=CAT_COLORS[1], alpha=1)\n",
    "plt.plot(sark_evouni_s[:,XPC], sark_evouni_s[:,YPC], '.', color=CAT_COLORS[0], alpha=1)\n",
    "plt.xticks([])\n",
    "#plt.xlim((0, 5.2))\n",
    "plt.yticks([])\n",
    "plt.xlabel('UniRep PC1')\n",
    "plt.ylabel('UniRep PC2')\n",
    "\n",
    "plt.show()"
   ]
  }
 ],
 "metadata": {
  "kernelspec": {
   "display_name": "Python 3",
   "language": "python",
   "name": "python3"
  },
  "language_info": {
   "codemirror_mode": {
    "name": "ipython",
    "version": 3
   },
   "file_extension": ".py",
   "mimetype": "text/x-python",
   "name": "python",
   "nbconvert_exporter": "python",
   "pygments_lexer": "ipython3",
   "version": "3.5.2"
  }
 },
 "nbformat": 4,
 "nbformat_minor": 2
}
